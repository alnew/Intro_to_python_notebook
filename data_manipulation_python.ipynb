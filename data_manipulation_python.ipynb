{
 "cells": [
  {
   "cell_type": "markdown",
   "metadata": {},
   "source": [
    "# Data Manipulation in Python\n",
    "## INFORMS 2020 Python Workshop\n",
    "### Amy Newman"
   ]
  },
  {
   "cell_type": "markdown",
   "metadata": {},
   "source": [
    "## Import Packages"
   ]
  },
  {
   "cell_type": "code",
   "execution_count": 235,
   "metadata": {},
   "outputs": [],
   "source": [
    "import pandas as pd\n",
    "import numpy as np\n",
    "import json"
   ]
  },
  {
   "cell_type": "markdown",
   "metadata": {},
   "source": [
    "## Loading / Saving JSON \n",
    "- JSON (Javascript Object Notation)\n",
    "    - it's a standardized format to pass data around; it's easy for machines and humans to use\n",
    "    - it's a form of text data written in Javascript notation and can be sent to and from a server\n",
    "    - Twitter and Facebook are examples where you would retrieve data in JSON format\n",
    "- JSON Viewer: can give a better picture of the structure of your data. Copy and paste the JSON into it. \n",
    "    - https://codebeautify.org/jsonviewer or https://jsonformatter.org/json-pretty-print"
   ]
  },
  {
   "cell_type": "code",
   "execution_count": 444,
   "metadata": {},
   "outputs": [],
   "source": [
    "#--JSON: kind of looks like a dictionary, huh?\n",
    "json1 = { \"firstName\": \"Alan\", \"lastName\": \"Doe\", \"hobbies\": [\"running\", \"climbing\", \"dancing\"], \n",
    "        \"age\": 35, \"children\": [ { \"firstName\": \"Sam\", \"age\": 6 }, { \"firstName\": \"Jamie\", \"age\": 8 } ] }\n",
    "\n",
    "\n",
    "\n",
    "#--If you put json1 in the JSON Code Beautifier, it will give a structure that looks like json2--\n",
    "json2 = {\n",
    "    \"firstName\": \"Alan\",\n",
    "    \"lastName\": \"Doe\",\n",
    "    \"hobbies\": [\"running\", \"climbing\", \"dancing\"],\n",
    "    \"age\": 35,\n",
    "    \"children\": [\n",
    "        {\n",
    "            \"firstName\": \"Sam\",\n",
    "            \"age\": 6\n",
    "        },\n",
    "        {\n",
    "            \"firstName\": \"Jamie\",\n",
    "            \"age\": 8\n",
    "        }\n",
    "    ]\n",
    "}"
   ]
  },
  {
   "cell_type": "code",
   "execution_count": 447,
   "metadata": {},
   "outputs": [
    {
     "data": {
      "text/plain": [
       "'Alan'"
      ]
     },
     "execution_count": 447,
     "metadata": {},
     "output_type": "execute_result"
    }
   ],
   "source": [
    "#--Accessing data within the json file is a little like accessing data in a Python dictionary--\n",
    "json1['firstName']"
   ]
  },
  {
   "cell_type": "code",
   "execution_count": 448,
   "metadata": {},
   "outputs": [
    {
     "data": {
      "text/plain": [
       "'Sam'"
      ]
     },
     "execution_count": 448,
     "metadata": {},
     "output_type": "execute_result"
    }
   ],
   "source": [
    "#--Notice that to get to 'Sam', we have to go through a dictionary, a list, and then a dictionary--\n",
    "json1['children'][0]['firstName']"
   ]
  },
  {
   "cell_type": "code",
   "execution_count": 446,
   "metadata": {},
   "outputs": [
    {
     "name": "stdout",
     "output_type": "stream",
     "text": [
      "<class 'str'>\n",
      "{\"team\": \"Brazil\", \"position\": 1, \"host\": true, \"lastGame\": \"Win\"}\n"
     ]
    }
   ],
   "source": [
    "#--Using json.dumps() to convert a Python object and create a string--\n",
    "pdict = {'team': 'Brazil', 'position': 1, 'host': True, 'lastGame': 'Win'}\n",
    "dictToJson = json.dumps(pdict)\n",
    "print(type(dictToJson))\n",
    "print(dictToJson)"
   ]
  },
  {
   "cell_type": "markdown",
   "metadata": {},
   "source": [
    "#### Loading JSON Files\n",
    "- json.loads() takes a file-like object, reads the data from that object, and uses that string to create a json object\n",
    "- json.dumps() takes an json object and produces a string"
   ]
  },
  {
   "cell_type": "code",
   "execution_count": 377,
   "metadata": {},
   "outputs": [],
   "source": [
    "#--Loading JSON Tweet data: Full data set--WORKS--\n",
    "with open('data/tweets_from_nyc_taxis.json', 'r') as f:\n",
    "    tweets = f.readlines()"
   ]
  },
  {
   "cell_type": "code",
   "execution_count": 378,
   "metadata": {},
   "outputs": [
    {
     "data": {
      "text/plain": [
       "13269"
      ]
     },
     "execution_count": 378,
     "metadata": {},
     "output_type": "execute_result"
    }
   ],
   "source": [
    "len(tweets)"
   ]
  },
  {
   "cell_type": "code",
   "execution_count": null,
   "metadata": {},
   "outputs": [],
   "source": [
    "filename = 'data/mini_tweets_nyc_taxi.json'"
   ]
  },
  {
   "cell_type": "code",
   "execution_count": 438,
   "metadata": {},
   "outputs": [],
   "source": [
    "with open(filename, 'r') as f:\n",
    "    read_tweet = f.read()"
   ]
  },
  {
   "cell_type": "code",
   "execution_count": 441,
   "metadata": {},
   "outputs": [
    {
     "data": {
      "text/plain": [
       "str"
      ]
     },
     "execution_count": 441,
     "metadata": {},
     "output_type": "execute_result"
    }
   ],
   "source": []
  },
  {
   "cell_type": "code",
   "execution_count": 411,
   "metadata": {},
   "outputs": [],
   "source": [
    "#--Puts your Twitter data into a dataframe--WORKS\n",
    "df = pd.read_json(filename, orient = 'records', lines = True)"
   ]
  },
  {
   "cell_type": "code",
   "execution_count": 408,
   "metadata": {},
   "outputs": [
    {
     "ename": "AttributeError",
     "evalue": "'dict' object has no attribute 'load'",
     "output_type": "error",
     "traceback": [
      "\u001b[0;31m---------------------------------------------------------------------------\u001b[0m",
      "\u001b[0;31mAttributeError\u001b[0m                            Traceback (most recent call last)",
      "\u001b[0;32m<ipython-input-408-84ac17d21f06>\u001b[0m in \u001b[0;36m<module>\u001b[0;34m\u001b[0m\n\u001b[1;32m      1\u001b[0m \u001b[0;32mwith\u001b[0m \u001b[0mopen\u001b[0m\u001b[0;34m(\u001b[0m\u001b[0mfilename\u001b[0m\u001b[0;34m,\u001b[0m \u001b[0;34m\"r\"\u001b[0m\u001b[0;34m)\u001b[0m \u001b[0;32mas\u001b[0m \u001b[0mread_file\u001b[0m\u001b[0;34m:\u001b[0m\u001b[0;34m\u001b[0m\u001b[0;34m\u001b[0m\u001b[0m\n\u001b[0;32m----> 2\u001b[0;31m     \u001b[0mdata\u001b[0m \u001b[0;34m=\u001b[0m \u001b[0mjson\u001b[0m\u001b[0;34m.\u001b[0m\u001b[0mload\u001b[0m\u001b[0;34m(\u001b[0m\u001b[0mread_file\u001b[0m\u001b[0;34m)\u001b[0m\u001b[0;34m\u001b[0m\u001b[0;34m\u001b[0m\u001b[0m\n\u001b[0m",
      "\u001b[0;31mAttributeError\u001b[0m: 'dict' object has no attribute 'load'"
     ]
    }
   ],
   "source": [
    "with open(filename, \"r\") as read_file:\n",
    "    data = json.load(read_file)"
   ]
  },
  {
   "cell_type": "code",
   "execution_count": 409,
   "metadata": {},
   "outputs": [],
   "source": [
    "filename = 'data/mini_tweets_nyc_taxi.json' #--WORKS--\n",
    "with open(filename, 'r') as f:\n",
    "    tweets = f.readlines()"
   ]
  },
  {
   "cell_type": "code",
   "execution_count": 434,
   "metadata": {},
   "outputs": [
    {
     "data": {
      "text/plain": [
       "list"
      ]
     },
     "execution_count": 434,
     "metadata": {},
     "output_type": "execute_result"
    }
   ],
   "source": [
    "type(tweets)"
   ]
  },
  {
   "cell_type": "code",
   "execution_count": 432,
   "metadata": {},
   "outputs": [
    {
     "ename": "AttributeError",
     "evalue": "'dict' object has no attribute 'loads'",
     "output_type": "error",
     "traceback": [
      "\u001b[0;31m---------------------------------------------------------------------------\u001b[0m",
      "\u001b[0;31mAttributeError\u001b[0m                            Traceback (most recent call last)",
      "\u001b[0;32m<ipython-input-432-df80d0d661a3>\u001b[0m in \u001b[0;36m<module>\u001b[0;34m\u001b[0m\n\u001b[0;32m----> 1\u001b[0;31m \u001b[0mjsonTodict\u001b[0m \u001b[0;34m=\u001b[0m \u001b[0mjson\u001b[0m\u001b[0;34m.\u001b[0m\u001b[0mloads\u001b[0m\u001b[0;34m(\u001b[0m\u001b[0mtweets\u001b[0m\u001b[0;34m[\u001b[0m\u001b[0;36m0\u001b[0m\u001b[0;34m]\u001b[0m\u001b[0;34m)\u001b[0m\u001b[0;34m.\u001b[0m\u001b[0mitems\u001b[0m\u001b[0;34m(\u001b[0m\u001b[0;34m)\u001b[0m\u001b[0;34m\u001b[0m\u001b[0;34m\u001b[0m\u001b[0m\n\u001b[0m",
      "\u001b[0;31mAttributeError\u001b[0m: 'dict' object has no attribute 'loads'"
     ]
    }
   ],
   "source": [
    "jsonTodict = json.loads(tweets[0]).items()"
   ]
  },
  {
   "cell_type": "code",
   "execution_count": 427,
   "metadata": {},
   "outputs": [
    {
     "name": "stdout",
     "output_type": "stream",
     "text": [
      "<class 'str'>\n",
      "<class 'str'>\n",
      "<class 'str'>\n"
     ]
    }
   ],
   "source": [
    "tweet_lst = []\n",
    "\n",
    "with open(filename, 'r') as f:\n",
    "    for line in f.readlines():\n",
    "        print(type(line))\n",
    "#         tweet_lst.append(line)"
   ]
  },
  {
   "cell_type": "code",
   "execution_count": 429,
   "metadata": {},
   "outputs": [
    {
     "ename": "AttributeError",
     "evalue": "'dict' object has no attribute 'loads'",
     "output_type": "error",
     "traceback": [
      "\u001b[0;31m---------------------------------------------------------------------------\u001b[0m",
      "\u001b[0;31mAttributeError\u001b[0m                            Traceback (most recent call last)",
      "\u001b[0;32m<ipython-input-429-5bba885b6a8a>\u001b[0m in \u001b[0;36m<module>\u001b[0;34m\u001b[0m\n\u001b[1;32m      1\u001b[0m \u001b[0mpath\u001b[0m \u001b[0;34m=\u001b[0m \u001b[0mfilename\u001b[0m\u001b[0;34m\u001b[0m\u001b[0;34m\u001b[0m\u001b[0m\n\u001b[0;32m----> 2\u001b[0;31m \u001b[0mrecords\u001b[0m \u001b[0;34m=\u001b[0m \u001b[0;34m[\u001b[0m\u001b[0mjson\u001b[0m\u001b[0;34m.\u001b[0m\u001b[0mloads\u001b[0m\u001b[0;34m(\u001b[0m\u001b[0mline\u001b[0m\u001b[0;34m)\u001b[0m \u001b[0;32mfor\u001b[0m \u001b[0mline\u001b[0m \u001b[0;32min\u001b[0m \u001b[0mopen\u001b[0m\u001b[0;34m(\u001b[0m\u001b[0mpath\u001b[0m\u001b[0;34m)\u001b[0m\u001b[0;34m]\u001b[0m\u001b[0;34m\u001b[0m\u001b[0;34m\u001b[0m\u001b[0m\n\u001b[0m",
      "\u001b[0;32m<ipython-input-429-5bba885b6a8a>\u001b[0m in \u001b[0;36m<listcomp>\u001b[0;34m(.0)\u001b[0m\n\u001b[1;32m      1\u001b[0m \u001b[0mpath\u001b[0m \u001b[0;34m=\u001b[0m \u001b[0mfilename\u001b[0m\u001b[0;34m\u001b[0m\u001b[0;34m\u001b[0m\u001b[0m\n\u001b[0;32m----> 2\u001b[0;31m \u001b[0mrecords\u001b[0m \u001b[0;34m=\u001b[0m \u001b[0;34m[\u001b[0m\u001b[0mjson\u001b[0m\u001b[0;34m.\u001b[0m\u001b[0mloads\u001b[0m\u001b[0;34m(\u001b[0m\u001b[0mline\u001b[0m\u001b[0;34m)\u001b[0m \u001b[0;32mfor\u001b[0m \u001b[0mline\u001b[0m \u001b[0;32min\u001b[0m \u001b[0mopen\u001b[0m\u001b[0;34m(\u001b[0m\u001b[0mpath\u001b[0m\u001b[0;34m)\u001b[0m\u001b[0;34m]\u001b[0m\u001b[0;34m\u001b[0m\u001b[0;34m\u001b[0m\u001b[0m\n\u001b[0m",
      "\u001b[0;31mAttributeError\u001b[0m: 'dict' object has no attribute 'loads'"
     ]
    }
   ],
   "source": []
  },
  {
   "cell_type": "code",
   "execution_count": 410,
   "metadata": {
    "collapsed": true,
    "jupyter": {
     "outputs_hidden": true
    }
   },
   "outputs": [
    {
     "data": {
      "text/plain": [
       "['{\"created_at\": \"Tue May 01 14:18:26 +0000 2018\", \"id\": 991320947700523009, \"id_str\": \"991320947700523009\", \"text\": \"@NeilECollins @nyc311 Thank you for reading, Mr. Collins.  Having a TLC driver license is a privilege.  Taxi passen\\\\u2026 https://t.co/78C3glo1yl\", \"truncated\": true, \"entities\": {\"hashtags\": [], \"symbols\": [], \"user_mentions\": [{\"screen_name\": \"NeilECollins\", \"name\": \"Neil Collins\", \"id\": 2813412205, \"id_str\": \"2813412205\", \"indices\": [0, 13]}, {\"screen_name\": \"nyc311\", \"name\": \"New York City 311\", \"id\": 37683414, \"id_str\": \"37683414\", \"indices\": [14, 21]}], \"urls\": [{\"url\": \"https://t.co/78C3glo1yl\", \"expanded_url\": \"https://twitter.com/i/web/status/991320947700523009\", \"display_url\": \"twitter.com/i/web/status/9\\\\u2026\", \"indices\": [117, 140]}]}, \"source\": \"<a href=\\\\\"http://twitter.com\\\\\" rel=\\\\\"nofollow\\\\\">Twitter Web Client</a>\", \"in_reply_to_status_id\": 991311021905207298, \"in_reply_to_status_id_str\": \"991311021905207298\", \"in_reply_to_user_id\": 2813412205, \"in_reply_to_user_id_str\": \"2813412205\", \"in_reply_to_screen_name\": \"NeilECollins\", \"user\": {\"id\": 94163495, \"id_str\": \"94163495\", \"name\": \"NYC TLC\", \"screen_name\": \"nyctaxi\", \"location\": \"New York, NY\", \"description\": \"The TLC is the City agency that regulates app-based and traditional black & livery cars, yellow & green taxicabs,  ambulettes, commuter vans & some limousines.\", \"url\": \"https://t.co/vb35n2OpJo\", \"entities\": {\"url\": {\"urls\": [{\"url\": \"https://t.co/vb35n2OpJo\", \"expanded_url\": \"http://nyc.gov/tlc\", \"display_url\": \"nyc.gov/tlc\", \"indices\": [0, 23]}]}, \"description\": {\"urls\": []}}, \"protected\": false, \"followers_count\": 13544, \"friends_count\": 677, \"listed_count\": 366, \"created_at\": \"Wed Dec 02 20:00:22 +0000 2009\", \"favourites_count\": 1186, \"utc_offset\": -14400, \"time_zone\": \"Eastern Time (US & Canada)\", \"geo_enabled\": true, \"verified\": true, \"statuses_count\": 4260, \"lang\": \"en\", \"contributors_enabled\": false, \"is_translator\": false, \"is_translation_enabled\": false, \"profile_background_color\": \"A8C75A\", \"profile_background_image_url\": \"http://abs.twimg.com/images/themes/theme1/bg.png\", \"profile_background_image_url_https\": \"https://abs.twimg.com/images/themes/theme1/bg.png\", \"profile_background_tile\": false, \"profile_image_url\": \"http://pbs.twimg.com/profile_images/646340365897854976/1ta6i3EL_normal.jpg\", \"profile_image_url_https\": \"https://pbs.twimg.com/profile_images/646340365897854976/1ta6i3EL_normal.jpg\", \"profile_banner_url\": \"https://pbs.twimg.com/profile_banners/94163495/1412198408\", \"profile_link_color\": \"F28043\", \"profile_sidebar_border_color\": \"FFFFFF\", \"profile_sidebar_fill_color\": \"DDEEF6\", \"profile_text_color\": \"333333\", \"profile_use_background_image\": false, \"has_extended_profile\": false, \"default_profile\": false, \"default_profile_image\": false, \"following\": null, \"follow_request_sent\": null, \"notifications\": null, \"translator_type\": \"none\"}, \"geo\": null, \"coordinates\": null, \"place\": null, \"contributors\": null, \"is_quote_status\": false, \"retweet_count\": 0, \"favorite_count\": 0, \"favorited\": false, \"retweeted\": false, \"lang\": \"en\"}\\n',\n",
       " '{\"created_at\": \"Mon Apr 30 17:56:48 +0000 2018\", \"id\": 991013512066584576, \"id_str\": \"991013512066584576\", \"text\": \"TLC Commissioner Joshi and staff member Malcolm Cain were pleased to attend the cultural program that followed the\\\\u2026 https://t.co/AHZH05R8ts\", \"truncated\": true, \"entities\": {\"hashtags\": [], \"symbols\": [], \"user_mentions\": [], \"urls\": [{\"url\": \"https://t.co/AHZH05R8ts\", \"expanded_url\": \"https://twitter.com/i/web/status/991013512066584576\", \"display_url\": \"twitter.com/i/web/status/9\\\\u2026\", \"indices\": [116, 139]}]}, \"source\": \"<a href=\\\\\"http://twitter.com\\\\\" rel=\\\\\"nofollow\\\\\">Twitter Web Client</a>\", \"in_reply_to_status_id\": null, \"in_reply_to_status_id_str\": null, \"in_reply_to_user_id\": null, \"in_reply_to_user_id_str\": null, \"in_reply_to_screen_name\": null, \"user\": {\"id\": 94163495, \"id_str\": \"94163495\", \"name\": \"NYC TLC\", \"screen_name\": \"nyctaxi\", \"location\": \"New York, NY\", \"description\": \"The TLC is the City agency that regulates app-based and traditional black & livery cars, yellow & green taxicabs,  ambulettes, commuter vans & some limousines.\", \"url\": \"https://t.co/vb35n2OpJo\", \"entities\": {\"url\": {\"urls\": [{\"url\": \"https://t.co/vb35n2OpJo\", \"expanded_url\": \"http://nyc.gov/tlc\", \"display_url\": \"nyc.gov/tlc\", \"indices\": [0, 23]}]}, \"description\": {\"urls\": []}}, \"protected\": false, \"followers_count\": 13544, \"friends_count\": 677, \"listed_count\": 366, \"created_at\": \"Wed Dec 02 20:00:22 +0000 2009\", \"favourites_count\": 1186, \"utc_offset\": -14400, \"time_zone\": \"Eastern Time (US & Canada)\", \"geo_enabled\": true, \"verified\": true, \"statuses_count\": 4260, \"lang\": \"en\", \"contributors_enabled\": false, \"is_translator\": false, \"is_translation_enabled\": false, \"profile_background_color\": \"A8C75A\", \"profile_background_image_url\": \"http://abs.twimg.com/images/themes/theme1/bg.png\", \"profile_background_image_url_https\": \"https://abs.twimg.com/images/themes/theme1/bg.png\", \"profile_background_tile\": false, \"profile_image_url\": \"http://pbs.twimg.com/profile_images/646340365897854976/1ta6i3EL_normal.jpg\", \"profile_image_url_https\": \"https://pbs.twimg.com/profile_images/646340365897854976/1ta6i3EL_normal.jpg\", \"profile_banner_url\": \"https://pbs.twimg.com/profile_banners/94163495/1412198408\", \"profile_link_color\": \"F28043\", \"profile_sidebar_border_color\": \"FFFFFF\", \"profile_sidebar_fill_color\": \"DDEEF6\", \"profile_text_color\": \"333333\", \"profile_use_background_image\": false, \"has_extended_profile\": false, \"default_profile\": false, \"default_profile_image\": false, \"following\": null, \"follow_request_sent\": null, \"notifications\": null, \"translator_type\": \"none\"}, \"geo\": null, \"coordinates\": null, \"place\": null, \"contributors\": null, \"is_quote_status\": false, \"retweet_count\": 0, \"favorite_count\": 1, \"favorited\": false, \"retweeted\": false, \"possibly_sensitive\": false, \"lang\": \"en\"}\\n',\n",
       " '{\"created_at\": \"Thu Apr 26 16:07:30 +0000 2018\", \"id\": 989536454723428353, \"id_str\": \"989536454723428353\", \"text\": \"RT @NYPD19Pct: \\\\u201cDah-ling I love you but give me Park Avenue.\\\\u201d \\\\ud83c\\\\udfb6 \\\\n\\\\nIt finally feels &amp; looks like #Spring here on the #UpperEastSide. \\\\ud83c\\\\udf37\\\\n\\\\nGet\\\\u2026\", \"truncated\": false, \"entities\": {\"hashtags\": [{\"text\": \"Spring\", \"indices\": [100, 107]}, {\"text\": \"UpperEastSide\", \"indices\": [120, 134]}], \"symbols\": [], \"user_mentions\": [{\"screen_name\": \"NYPD19Pct\", \"name\": \"NYPD 19th Precinct\", \"id\": 2371009784, \"id_str\": \"2371009784\", \"indices\": [3, 13]}], \"urls\": []}, \"source\": \"<a href=\\\\\"http://twitter.com\\\\\" rel=\\\\\"nofollow\\\\\">Twitter Web Client</a>\", \"in_reply_to_status_id\": null, \"in_reply_to_status_id_str\": null, \"in_reply_to_user_id\": null, \"in_reply_to_user_id_str\": null, \"in_reply_to_screen_name\": null, \"user\": {\"id\": 94163495, \"id_str\": \"94163495\", \"name\": \"NYC TLC\", \"screen_name\": \"nyctaxi\", \"location\": \"New York, NY\", \"description\": \"The TLC is the City agency that regulates app-based and traditional black & livery cars, yellow & green taxicabs,  ambulettes, commuter vans & some limousines.\", \"url\": \"https://t.co/vb35n2OpJo\", \"entities\": {\"url\": {\"urls\": [{\"url\": \"https://t.co/vb35n2OpJo\", \"expanded_url\": \"http://nyc.gov/tlc\", \"display_url\": \"nyc.gov/tlc\", \"indices\": [0, 23]}]}, \"description\": {\"urls\": []}}, \"protected\": false, \"followers_count\": 13544, \"friends_count\": 677, \"listed_count\": 366, \"created_at\": \"Wed Dec 02 20:00:22 +0000 2009\", \"favourites_count\": 1186, \"utc_offset\": -14400, \"time_zone\": \"Eastern Time (US & Canada)\", \"geo_enabled\": true, \"verified\": true, \"statuses_count\": 4260, \"lang\": \"en\", \"contributors_enabled\": false, \"is_translator\": false, \"is_translation_enabled\": false, \"profile_background_color\": \"A8C75A\", \"profile_background_image_url\": \"http://abs.twimg.com/images/themes/theme1/bg.png\", \"profile_background_image_url_https\": \"https://abs.twimg.com/images/themes/theme1/bg.png\", \"profile_background_tile\": false, \"profile_image_url\": \"http://pbs.twimg.com/profile_images/646340365897854976/1ta6i3EL_normal.jpg\", \"profile_image_url_https\": \"https://pbs.twimg.com/profile_images/646340365897854976/1ta6i3EL_normal.jpg\", \"profile_banner_url\": \"https://pbs.twimg.com/profile_banners/94163495/1412198408\", \"profile_link_color\": \"F28043\", \"profile_sidebar_border_color\": \"FFFFFF\", \"profile_sidebar_fill_color\": \"DDEEF6\", \"profile_text_color\": \"333333\", \"profile_use_background_image\": false, \"has_extended_profile\": false, \"default_profile\": false, \"default_profile_image\": false, \"following\": null, \"follow_request_sent\": null, \"notifications\": null, \"translator_type\": \"none\"}, \"geo\": null, \"coordinates\": null, \"place\": null, \"contributors\": null, \"retweeted_status\": {\"created_at\": \"Thu Apr 26 15:38:47 +0000 2018\", \"id\": 989529227291709440, \"id_str\": \"989529227291709440\", \"text\": \"\\\\u201cDah-ling I love you but give me Park Avenue.\\\\u201d \\\\ud83c\\\\udfb6 \\\\n\\\\nIt finally feels &amp; looks like #Spring here on the #UpperEastSide\\\\u2026 https://t.co/BgJZIKP1Rj\", \"truncated\": true, \"entities\": {\"hashtags\": [{\"text\": \"Spring\", \"indices\": [85, 92]}, {\"text\": \"UpperEastSide\", \"indices\": [105, 119]}], \"symbols\": [], \"user_mentions\": [], \"urls\": [{\"url\": \"https://t.co/BgJZIKP1Rj\", \"expanded_url\": \"https://twitter.com/i/web/status/989529227291709440\", \"display_url\": \"twitter.com/i/web/status/9\\\\u2026\", \"indices\": [121, 144]}]}, \"source\": \"<a href=\\\\\"http://twitter.com/download/iphone\\\\\" rel=\\\\\"nofollow\\\\\">Twitter for iPhone</a>\", \"in_reply_to_status_id\": null, \"in_reply_to_status_id_str\": null, \"in_reply_to_user_id\": null, \"in_reply_to_user_id_str\": null, \"in_reply_to_screen_name\": null, \"user\": {\"id\": 2371009784, \"id_str\": \"2371009784\", \"name\": \"NYPD 19th Precinct\", \"screen_name\": \"NYPD19Pct\", \"location\": \"153 East 67th Street, New York\", \"description\": \"Deputy Inspector Kathleen Walsh, Commanding Officer. The official Twitter of the 19th Precinct #UpperEastSide #UES User policy: https://t.co/zsNvfzmw5C\", \"url\": \"https://t.co/QdHXe9dHqC\", \"entities\": {\"url\": {\"urls\": [{\"url\": \"https://t.co/QdHXe9dHqC\", \"expanded_url\": \"http://www1.nyc.gov/site/nypd/bureaus/patrol/precincts/19th-precinct.page\", \"display_url\": \"www1.nyc.gov/site/nypd/bure\\\\u2026\", \"indices\": [0, 23]}]}, \"description\": {\"urls\": [{\"url\": \"https://t.co/zsNvfzmw5C\", \"expanded_url\": \"http://on.nyc.gov/2FDGya2\", \"display_url\": \"on.nyc.gov/2FDGya2\", \"indices\": [128, 151]}]}}, \"protected\": false, \"followers_count\": 9028, \"friends_count\": 1441, \"listed_count\": 150, \"created_at\": \"Mon Mar 03 22:19:08 +0000 2014\", \"favourites_count\": 30280, \"utc_offset\": null, \"time_zone\": null, \"geo_enabled\": true, \"verified\": true, \"statuses_count\": 4947, \"lang\": \"en\", \"contributors_enabled\": false, \"is_translator\": false, \"is_translation_enabled\": false, \"profile_background_color\": \"005CB9\", \"profile_background_image_url\": \"http://abs.twimg.com/images/themes/theme1/bg.png\", \"profile_background_image_url_https\": \"https://abs.twimg.com/images/themes/theme1/bg.png\", \"profile_background_tile\": false, \"profile_image_url\": \"http://pbs.twimg.com/profile_images/954049681214070785/MYnCXt5f_normal.jpg\", \"profile_image_url_https\": \"https://pbs.twimg.com/profile_images/954049681214070785/MYnCXt5f_normal.jpg\", \"profile_banner_url\": \"https://pbs.twimg.com/profile_banners/2371009784/1444860195\", \"profile_link_color\": \"005CB9\", \"profile_sidebar_border_color\": \"FFFFFF\", \"profile_sidebar_fill_color\": \"DDEEF6\", \"profile_text_color\": \"333333\", \"profile_use_background_image\": false, \"has_extended_profile\": false, \"default_profile\": false, \"default_profile_image\": false, \"following\": null, \"follow_request_sent\": null, \"notifications\": null, \"translator_type\": \"none\"}, \"geo\": null, \"coordinates\": null, \"place\": {\"id\": \"07d9f5ef0b888000\", \"url\": \"https://api.twitter.com/1.1/geo/id/07d9f5ef0b888000.json\", \"place_type\": \"poi\", \"name\": \"Park Avenue Malls\", \"full_name\": \"Park Avenue Malls\", \"country_code\": \"US\", \"country\": \"United States\", \"contained_within\": [], \"bounding_box\": {\"type\": \"Polygon\", \"coordinates\": [[[-73.95236492156982, 40.78694287968013], [-73.95236492156982, 40.78694287968013], [-73.95236492156982, 40.78694287968013], [-73.95236492156982, 40.78694287968013]]]}, \"attributes\": {}}, \"contributors\": null, \"is_quote_status\": false, \"retweet_count\": 10, \"favorite_count\": 45, \"favorited\": false, \"retweeted\": false, \"possibly_sensitive\": false, \"lang\": \"en\"}, \"is_quote_status\": false, \"retweet_count\": 10, \"favorite_count\": 0, \"favorited\": false, \"retweeted\": false, \"lang\": \"en\"}\\n']"
      ]
     },
     "execution_count": 410,
     "metadata": {},
     "output_type": "execute_result"
    }
   ],
   "source": [
    "tweets"
   ]
  },
  {
   "cell_type": "code",
   "execution_count": null,
   "metadata": {},
   "outputs": [],
   "source": []
  },
  {
   "cell_type": "code",
   "execution_count": 464,
   "metadata": {},
   "outputs": [],
   "source": [
    "# with open(filename) as tweet_data:\n",
    "#     json_data = json.load(tweet_data.readlines())"
   ]
  },
  {
   "cell_type": "code",
   "execution_count": null,
   "metadata": {},
   "outputs": [],
   "source": []
  },
  {
   "cell_type": "code",
   "execution_count": 465,
   "metadata": {},
   "outputs": [],
   "source": [
    "# tweets[0].dumps()"
   ]
  },
  {
   "cell_type": "code",
   "execution_count": 387,
   "metadata": {},
   "outputs": [],
   "source": [
    "#--Loading JSON Tweet data: mini data set--\n",
    "filename = 'data/mini_tweets_nyc_taxi.json'\n",
    "f = open(filename, 'r', encoding = 'UTF-8', errors = \"replace\")\n",
    "\n",
    "tweet_lst = []\n",
    "\n",
    "for line in f.readlines():\n",
    "#     print(line)\n",
    "    tweet_lst.append(line)\n",
    "#     lst = line.split('\\n')\n"
   ]
  },
  {
   "cell_type": "code",
   "execution_count": 127,
   "metadata": {},
   "outputs": [],
   "source": [
    "tw_lst = []\n",
    "for elem in tweets:\n",
    "    tw_lst.append(elem)"
   ]
  },
  {
   "cell_type": "code",
   "execution_count": 131,
   "metadata": {
    "collapsed": true,
    "jupyter": {
     "outputs_hidden": true
    }
   },
   "outputs": [
    {
     "data": {
      "text/plain": [
       "'{\"created_at\": \"Tue May 01 14:18:26 +0000 2018\", \"id\": 991320947700523009, \"id_str\": \"991320947700523009\", \"text\": \"@NeilECollins @nyc311 Thank you for reading, Mr. Collins.  Having a TLC driver license is a privilege.  Taxi passen\\\\u2026 https://t.co/78C3glo1yl\", \"truncated\": true, \"entities\": {\"hashtags\": [], \"symbols\": [], \"user_mentions\": [{\"screen_name\": \"NeilECollins\", \"name\": \"Neil Collins\", \"id\": 2813412205, \"id_str\": \"2813412205\", \"indices\": [0, 13]}, {\"screen_name\": \"nyc311\", \"name\": \"New York City 311\", \"id\": 37683414, \"id_str\": \"37683414\", \"indices\": [14, 21]}], \"urls\": [{\"url\": \"https://t.co/78C3glo1yl\", \"expanded_url\": \"https://twitter.com/i/web/status/991320947700523009\", \"display_url\": \"twitter.com/i/web/status/9\\\\u2026\", \"indices\": [117, 140]}]}, \"source\": \"<a href=\\\\\"http://twitter.com\\\\\" rel=\\\\\"nofollow\\\\\">Twitter Web Client</a>\", \"in_reply_to_status_id\": 991311021905207298, \"in_reply_to_status_id_str\": \"991311021905207298\", \"in_reply_to_user_id\": 2813412205, \"in_reply_to_user_id_str\": \"2813412205\", \"in_reply_to_screen_name\": \"NeilECollins\", \"user\": {\"id\": 94163495, \"id_str\": \"94163495\", \"name\": \"NYC TLC\", \"screen_name\": \"nyctaxi\", \"location\": \"New York, NY\", \"description\": \"The TLC is the City agency that regulates app-based and traditional black & livery cars, yellow & green taxicabs,  ambulettes, commuter vans & some limousines.\", \"url\": \"https://t.co/vb35n2OpJo\", \"entities\": {\"url\": {\"urls\": [{\"url\": \"https://t.co/vb35n2OpJo\", \"expanded_url\": \"http://nyc.gov/tlc\", \"display_url\": \"nyc.gov/tlc\", \"indices\": [0, 23]}]}, \"description\": {\"urls\": []}}, \"protected\": false, \"followers_count\": 13544, \"friends_count\": 677, \"listed_count\": 366, \"created_at\": \"Wed Dec 02 20:00:22 +0000 2009\", \"favourites_count\": 1186, \"utc_offset\": -14400, \"time_zone\": \"Eastern Time (US & Canada)\", \"geo_enabled\": true, \"verified\": true, \"statuses_count\": 4260, \"lang\": \"en\", \"contributors_enabled\": false, \"is_translator\": false, \"is_translation_enabled\": false, \"profile_background_color\": \"A8C75A\", \"profile_background_image_url\": \"http://abs.twimg.com/images/themes/theme1/bg.png\", \"profile_background_image_url_https\": \"https://abs.twimg.com/images/themes/theme1/bg.png\", \"profile_background_tile\": false, \"profile_image_url\": \"http://pbs.twimg.com/profile_images/646340365897854976/1ta6i3EL_normal.jpg\", \"profile_image_url_https\": \"https://pbs.twimg.com/profile_images/646340365897854976/1ta6i3EL_normal.jpg\", \"profile_banner_url\": \"https://pbs.twimg.com/profile_banners/94163495/1412198408\", \"profile_link_color\": \"F28043\", \"profile_sidebar_border_color\": \"FFFFFF\", \"profile_sidebar_fill_color\": \"DDEEF6\", \"profile_text_color\": \"333333\", \"profile_use_background_image\": false, \"has_extended_profile\": false, \"default_profile\": false, \"default_profile_image\": false, \"following\": null, \"follow_request_sent\": null, \"notifications\": null, \"translator_type\": \"none\"}, \"geo\": null, \"coordinates\": null, \"place\": null, \"contributors\": null, \"is_quote_status\": false, \"retweet_count\": 0, \"favorite_count\": 0, \"favorited\": false, \"retweeted\": false, \"lang\": \"en\"}\\n'"
      ]
     },
     "execution_count": 131,
     "metadata": {},
     "output_type": "execute_result"
    }
   ],
   "source": [
    "tw_lst[0]"
   ]
  },
  {
   "cell_type": "code",
   "execution_count": 125,
   "metadata": {
    "collapsed": true,
    "jupyter": {
     "outputs_hidden": true
    }
   },
   "outputs": [
    {
     "data": {
      "text/plain": [
       "'{\"created_at\": \"Tue May 01 14:18:26 +0000 2018\", \"id\": 991320947700523009, \"id_str\": \"991320947700523009\", \"text\": \"@NeilECollins @nyc311 Thank you for reading, Mr. Collins.  Having a TLC driver license is a privilege.  Taxi passen\\\\u2026 https://t.co/78C3glo1yl\", \"truncated\": true, \"entities\": {\"hashtags\": [], \"symbols\": [], \"user_mentions\": [{\"screen_name\": \"NeilECollins\", \"name\": \"Neil Collins\", \"id\": 2813412205, \"id_str\": \"2813412205\", \"indices\": [0, 13]}, {\"screen_name\": \"nyc311\", \"name\": \"New York City 311\", \"id\": 37683414, \"id_str\": \"37683414\", \"indices\": [14, 21]}], \"urls\": [{\"url\": \"https://t.co/78C3glo1yl\", \"expanded_url\": \"https://twitter.com/i/web/status/991320947700523009\", \"display_url\": \"twitter.com/i/web/status/9\\\\u2026\", \"indices\": [117, 140]}]}, \"source\": \"<a href=\\\\\"http://twitter.com\\\\\" rel=\\\\\"nofollow\\\\\">Twitter Web Client</a>\", \"in_reply_to_status_id\": 991311021905207298, \"in_reply_to_status_id_str\": \"991311021905207298\", \"in_reply_to_user_id\": 2813412205, \"in_reply_to_user_id_str\": \"2813412205\", \"in_reply_to_screen_name\": \"NeilECollins\", \"user\": {\"id\": 94163495, \"id_str\": \"94163495\", \"name\": \"NYC TLC\", \"screen_name\": \"nyctaxi\", \"location\": \"New York, NY\", \"description\": \"The TLC is the City agency that regulates app-based and traditional black & livery cars, yellow & green taxicabs,  ambulettes, commuter vans & some limousines.\", \"url\": \"https://t.co/vb35n2OpJo\", \"entities\": {\"url\": {\"urls\": [{\"url\": \"https://t.co/vb35n2OpJo\", \"expanded_url\": \"http://nyc.gov/tlc\", \"display_url\": \"nyc.gov/tlc\", \"indices\": [0, 23]}]}, \"description\": {\"urls\": []}}, \"protected\": false, \"followers_count\": 13544, \"friends_count\": 677, \"listed_count\": 366, \"created_at\": \"Wed Dec 02 20:00:22 +0000 2009\", \"favourites_count\": 1186, \"utc_offset\": -14400, \"time_zone\": \"Eastern Time (US & Canada)\", \"geo_enabled\": true, \"verified\": true, \"statuses_count\": 4260, \"lang\": \"en\", \"contributors_enabled\": false, \"is_translator\": false, \"is_translation_enabled\": false, \"profile_background_color\": \"A8C75A\", \"profile_background_image_url\": \"http://abs.twimg.com/images/themes/theme1/bg.png\", \"profile_background_image_url_https\": \"https://abs.twimg.com/images/themes/theme1/bg.png\", \"profile_background_tile\": false, \"profile_image_url\": \"http://pbs.twimg.com/profile_images/646340365897854976/1ta6i3EL_normal.jpg\", \"profile_image_url_https\": \"https://pbs.twimg.com/profile_images/646340365897854976/1ta6i3EL_normal.jpg\", \"profile_banner_url\": \"https://pbs.twimg.com/profile_banners/94163495/1412198408\", \"profile_link_color\": \"F28043\", \"profile_sidebar_border_color\": \"FFFFFF\", \"profile_sidebar_fill_color\": \"DDEEF6\", \"profile_text_color\": \"333333\", \"profile_use_background_image\": false, \"has_extended_profile\": false, \"default_profile\": false, \"default_profile_image\": false, \"following\": null, \"follow_request_sent\": null, \"notifications\": null, \"translator_type\": \"none\"}, \"geo\": null, \"coordinates\": null, \"place\": null, \"contributors\": null, \"is_quote_status\": false, \"retweet_count\": 0, \"favorite_count\": 0, \"favorited\": false, \"retweeted\": false, \"lang\": \"en\"}\\n'"
      ]
     },
     "execution_count": 125,
     "metadata": {},
     "output_type": "execute_result"
    }
   ],
   "source": [
    "tweets[0]"
   ]
  },
  {
   "cell_type": "code",
   "execution_count": null,
   "metadata": {},
   "outputs": [],
   "source": []
  },
  {
   "cell_type": "code",
   "execution_count": 71,
   "metadata": {
    "collapsed": true,
    "jupyter": {
     "outputs_hidden": true
    }
   },
   "outputs": [
    {
     "name": "stdout",
     "output_type": "stream",
     "text": [
      "{\n",
      "    \"contributors\": null,\n",
      "    \"coordinates\": null,\n",
      "    \"created_at\": \"Tue May 01 14:18:26 +0000 2018\",\n",
      "    \"entities\": {\n",
      "        \"hashtags\": [],\n",
      "        \"symbols\": [],\n",
      "        \"urls\": [\n",
      "            {\n",
      "                \"display_url\": \"twitter.com/i/web/status/9\\u2026\",\n",
      "                \"expanded_url\": \"https://twitter.com/i/web/status/991320947700523009\",\n",
      "                \"indices\": [\n",
      "                    117,\n",
      "                    140\n",
      "                ],\n",
      "                \"url\": \"https://t.co/78C3glo1yl\"\n",
      "            }\n",
      "        ],\n",
      "        \"user_mentions\": [\n",
      "            {\n",
      "                \"id\": 2813412205,\n",
      "                \"id_str\": \"2813412205\",\n",
      "                \"indices\": [\n",
      "                    0,\n",
      "                    13\n",
      "                ],\n",
      "                \"name\": \"Neil Collins\",\n",
      "                \"screen_name\": \"NeilECollins\"\n",
      "            },\n",
      "            {\n",
      "                \"id\": 37683414,\n",
      "                \"id_str\": \"37683414\",\n",
      "                \"indices\": [\n",
      "                    14,\n",
      "                    21\n",
      "                ],\n",
      "                \"name\": \"New York City 311\",\n",
      "                \"screen_name\": \"nyc311\"\n",
      "            }\n",
      "        ]\n",
      "    },\n",
      "    \"favorite_count\": 0,\n",
      "    \"favorited\": false,\n",
      "    \"geo\": null,\n",
      "    \"id\": 991320947700523009,\n",
      "    \"id_str\": \"991320947700523009\",\n",
      "    \"in_reply_to_screen_name\": \"NeilECollins\",\n",
      "    \"in_reply_to_status_id\": 991311021905207298,\n",
      "    \"in_reply_to_status_id_str\": \"991311021905207298\",\n",
      "    \"in_reply_to_user_id\": 2813412205,\n",
      "    \"in_reply_to_user_id_str\": \"2813412205\",\n",
      "    \"is_quote_status\": false,\n",
      "    \"lang\": \"en\",\n",
      "    \"place\": null,\n",
      "    \"retweet_count\": 0,\n",
      "    \"retweeted\": false,\n",
      "    \"source\": \"<a href=\\\"http://twitter.com\\\" rel=\\\"nofollow\\\">Twitter Web Client</a>\",\n",
      "    \"text\": \"@NeilECollins @nyc311 Thank you for reading, Mr. Collins.  Having a TLC driver license is a privilege.  Taxi passen\\u2026 https://t.co/78C3glo1yl\",\n",
      "    \"truncated\": true,\n",
      "    \"user\": {\n",
      "        \"contributors_enabled\": false,\n",
      "        \"created_at\": \"Wed Dec 02 20:00:22 +0000 2009\",\n",
      "        \"default_profile\": false,\n",
      "        \"default_profile_image\": false,\n",
      "        \"description\": \"The TLC is the City agency that regulates app-based and traditional black & livery cars, yellow & green taxicabs,  ambulettes, commuter vans & some limousines.\",\n",
      "        \"entities\": {\n",
      "            \"description\": {\n",
      "                \"urls\": []\n",
      "            },\n",
      "            \"url\": {\n",
      "                \"urls\": [\n",
      "                    {\n",
      "                        \"display_url\": \"nyc.gov/tlc\",\n",
      "                        \"expanded_url\": \"http://nyc.gov/tlc\",\n",
      "                        \"indices\": [\n",
      "                            0,\n",
      "                            23\n",
      "                        ],\n",
      "                        \"url\": \"https://t.co/vb35n2OpJo\"\n",
      "                    }\n",
      "                ]\n",
      "            }\n",
      "        },\n",
      "        \"favourites_count\": 1186,\n",
      "        \"follow_request_sent\": null,\n",
      "        \"followers_count\": 13544,\n",
      "        \"following\": null,\n",
      "        \"friends_count\": 677,\n",
      "        \"geo_enabled\": true,\n",
      "        \"has_extended_profile\": false,\n",
      "        \"id\": 94163495,\n",
      "        \"id_str\": \"94163495\",\n",
      "        \"is_translation_enabled\": false,\n",
      "        \"is_translator\": false,\n",
      "        \"lang\": \"en\",\n",
      "        \"listed_count\": 366,\n",
      "        \"location\": \"New York, NY\",\n",
      "        \"name\": \"NYC TLC\",\n",
      "        \"notifications\": null,\n",
      "        \"profile_background_color\": \"A8C75A\",\n",
      "        \"profile_background_image_url\": \"http://abs.twimg.com/images/themes/theme1/bg.png\",\n",
      "        \"profile_background_image_url_https\": \"https://abs.twimg.com/images/themes/theme1/bg.png\",\n",
      "        \"profile_background_tile\": false,\n",
      "        \"profile_banner_url\": \"https://pbs.twimg.com/profile_banners/94163495/1412198408\",\n",
      "        \"profile_image_url\": \"http://pbs.twimg.com/profile_images/646340365897854976/1ta6i3EL_normal.jpg\",\n",
      "        \"profile_image_url_https\": \"https://pbs.twimg.com/profile_images/646340365897854976/1ta6i3EL_normal.jpg\",\n",
      "        \"profile_link_color\": \"F28043\",\n",
      "        \"profile_sidebar_border_color\": \"FFFFFF\",\n",
      "        \"profile_sidebar_fill_color\": \"DDEEF6\",\n",
      "        \"profile_text_color\": \"333333\",\n",
      "        \"profile_use_background_image\": false,\n",
      "        \"protected\": false,\n",
      "        \"screen_name\": \"nyctaxi\",\n",
      "        \"statuses_count\": 4260,\n",
      "        \"time_zone\": \"Eastern Time (US & Canada)\",\n",
      "        \"translator_type\": \"none\",\n",
      "        \"url\": \"https://t.co/vb35n2OpJo\",\n",
      "        \"utc_offset\": -14400,\n",
      "        \"verified\": true\n",
      "    }\n",
      "}\n"
     ]
    }
   ],
   "source": [
    "#--Pretty print the first tweet to get a sense of the data--\n",
    "parsed = json.loads(tweets[0])\n",
    "print(json.dumps(parsed, indent=4, sort_keys=True))"
   ]
  },
  {
   "cell_type": "code",
   "execution_count": 74,
   "metadata": {
    "collapsed": true,
    "jupyter": {
     "outputs_hidden": true
    }
   },
   "outputs": [
    {
     "name": "stdout",
     "output_type": "stream",
     "text": [
      "[\n",
      "    \"foo\",\n",
      "    {\n",
      "        \"bar\": [\n",
      "            \"baz\",\n",
      "            null,\n",
      "            1.0,\n",
      "            2\n",
      "        ]\n",
      "    }\n",
      "]\n"
     ]
    }
   ],
   "source": [
    "your_json = '[\"foo\", {\"bar\":[\"baz\", null, 1.0, 2]}]'\n",
    "parsed = json.loads(your_json)\n",
    "print(json.dumps(parsed, indent=4, sort_keys=True))"
   ]
  },
  {
   "cell_type": "code",
   "execution_count": 98,
   "metadata": {},
   "outputs": [],
   "source": [
    "#--Loading and saving the JSON data--\n",
    "with open('data/tweets_from_nyc_taxis.json', 'r', encoding='utf-8') as f:\n",
    "    data = f.read()"
   ]
  },
  {
   "cell_type": "code",
   "execution_count": 99,
   "metadata": {},
   "outputs": [
    {
     "data": {
      "text/plain": [
       "str"
      ]
     },
     "execution_count": 99,
     "metadata": {},
     "output_type": "execute_result"
    }
   ],
   "source": [
    "type(data)"
   ]
  },
  {
   "cell_type": "code",
   "execution_count": 100,
   "metadata": {},
   "outputs": [],
   "source": [
    "#--Loading and saving the JSON data--\n",
    "with open('data/tweets_from_nyc_taxis.json', 'r') as f:\n",
    "    data = f.readlines()"
   ]
  },
  {
   "cell_type": "code",
   "execution_count": 102,
   "metadata": {},
   "outputs": [
    {
     "data": {
      "text/plain": [
       "list"
      ]
     },
     "execution_count": 102,
     "metadata": {},
     "output_type": "execute_result"
    }
   ],
   "source": [
    "type(data)"
   ]
  },
  {
   "cell_type": "code",
   "execution_count": null,
   "metadata": {},
   "outputs": [],
   "source": []
  },
  {
   "cell_type": "code",
   "execution_count": 117,
   "metadata": {},
   "outputs": [
    {
     "ename": "JSONDecodeError",
     "evalue": "Extra data: line 2 column 1 (char 3082)",
     "output_type": "error",
     "traceback": [
      "\u001b[0;31m---------------------------------------------------------------------------\u001b[0m",
      "\u001b[0;31mJSONDecodeError\u001b[0m                           Traceback (most recent call last)",
      "\u001b[0;32m<ipython-input-117-5fa04b1a1fff>\u001b[0m in \u001b[0;36m<module>\u001b[0;34m\u001b[0m\n\u001b[1;32m      3\u001b[0m \u001b[0;34m\u001b[0m\u001b[0m\n\u001b[1;32m      4\u001b[0m \u001b[0;32mwith\u001b[0m \u001b[0mopen\u001b[0m\u001b[0;34m(\u001b[0m\u001b[0mtaxi_tweets\u001b[0m\u001b[0;34m)\u001b[0m \u001b[0;32mas\u001b[0m \u001b[0mf\u001b[0m\u001b[0;34m:\u001b[0m\u001b[0;34m\u001b[0m\u001b[0;34m\u001b[0m\u001b[0m\n\u001b[0;32m----> 5\u001b[0;31m     \u001b[0mdata\u001b[0m \u001b[0;34m=\u001b[0m \u001b[0mjson\u001b[0m\u001b[0;34m.\u001b[0m\u001b[0mloads\u001b[0m\u001b[0;34m(\u001b[0m\u001b[0mf\u001b[0m\u001b[0;34m.\u001b[0m\u001b[0mread\u001b[0m\u001b[0;34m(\u001b[0m\u001b[0;34m)\u001b[0m\u001b[0;34m)\u001b[0m\u001b[0;34m\u001b[0m\u001b[0;34m\u001b[0m\u001b[0m\n\u001b[0m",
      "\u001b[0;32m/opt/anaconda3/lib/python3.7/json/__init__.py\u001b[0m in \u001b[0;36mloads\u001b[0;34m(s, encoding, cls, object_hook, parse_float, parse_int, parse_constant, object_pairs_hook, **kw)\u001b[0m\n\u001b[1;32m    346\u001b[0m             \u001b[0mparse_int\u001b[0m \u001b[0;32mis\u001b[0m \u001b[0;32mNone\u001b[0m \u001b[0;32mand\u001b[0m \u001b[0mparse_float\u001b[0m \u001b[0;32mis\u001b[0m \u001b[0;32mNone\u001b[0m \u001b[0;32mand\u001b[0m\u001b[0;34m\u001b[0m\u001b[0;34m\u001b[0m\u001b[0m\n\u001b[1;32m    347\u001b[0m             parse_constant is None and object_pairs_hook is None and not kw):\n\u001b[0;32m--> 348\u001b[0;31m         \u001b[0;32mreturn\u001b[0m \u001b[0m_default_decoder\u001b[0m\u001b[0;34m.\u001b[0m\u001b[0mdecode\u001b[0m\u001b[0;34m(\u001b[0m\u001b[0ms\u001b[0m\u001b[0;34m)\u001b[0m\u001b[0;34m\u001b[0m\u001b[0;34m\u001b[0m\u001b[0m\n\u001b[0m\u001b[1;32m    349\u001b[0m     \u001b[0;32mif\u001b[0m \u001b[0mcls\u001b[0m \u001b[0;32mis\u001b[0m \u001b[0;32mNone\u001b[0m\u001b[0;34m:\u001b[0m\u001b[0;34m\u001b[0m\u001b[0;34m\u001b[0m\u001b[0m\n\u001b[1;32m    350\u001b[0m         \u001b[0mcls\u001b[0m \u001b[0;34m=\u001b[0m \u001b[0mJSONDecoder\u001b[0m\u001b[0;34m\u001b[0m\u001b[0;34m\u001b[0m\u001b[0m\n",
      "\u001b[0;32m/opt/anaconda3/lib/python3.7/json/decoder.py\u001b[0m in \u001b[0;36mdecode\u001b[0;34m(self, s, _w)\u001b[0m\n\u001b[1;32m    338\u001b[0m         \u001b[0mend\u001b[0m \u001b[0;34m=\u001b[0m \u001b[0m_w\u001b[0m\u001b[0;34m(\u001b[0m\u001b[0ms\u001b[0m\u001b[0;34m,\u001b[0m \u001b[0mend\u001b[0m\u001b[0;34m)\u001b[0m\u001b[0;34m.\u001b[0m\u001b[0mend\u001b[0m\u001b[0;34m(\u001b[0m\u001b[0;34m)\u001b[0m\u001b[0;34m\u001b[0m\u001b[0;34m\u001b[0m\u001b[0m\n\u001b[1;32m    339\u001b[0m         \u001b[0;32mif\u001b[0m \u001b[0mend\u001b[0m \u001b[0;34m!=\u001b[0m \u001b[0mlen\u001b[0m\u001b[0;34m(\u001b[0m\u001b[0ms\u001b[0m\u001b[0;34m)\u001b[0m\u001b[0;34m:\u001b[0m\u001b[0;34m\u001b[0m\u001b[0;34m\u001b[0m\u001b[0m\n\u001b[0;32m--> 340\u001b[0;31m             \u001b[0;32mraise\u001b[0m \u001b[0mJSONDecodeError\u001b[0m\u001b[0;34m(\u001b[0m\u001b[0;34m\"Extra data\"\u001b[0m\u001b[0;34m,\u001b[0m \u001b[0ms\u001b[0m\u001b[0;34m,\u001b[0m \u001b[0mend\u001b[0m\u001b[0;34m)\u001b[0m\u001b[0;34m\u001b[0m\u001b[0;34m\u001b[0m\u001b[0m\n\u001b[0m\u001b[1;32m    341\u001b[0m         \u001b[0;32mreturn\u001b[0m \u001b[0mobj\u001b[0m\u001b[0;34m\u001b[0m\u001b[0;34m\u001b[0m\u001b[0m\n\u001b[1;32m    342\u001b[0m \u001b[0;34m\u001b[0m\u001b[0m\n",
      "\u001b[0;31mJSONDecodeError\u001b[0m: Extra data: line 2 column 1 (char 3082)"
     ]
    }
   ],
   "source": [
    "#--Loading JSON Twitter data--\n",
    "taxi_tweets = 'data/tweets_from_nyc_taxis.json'\n",
    "\n",
    "with open(taxi_tweets) as f:\n",
    "    data = json.loads(f.read())"
   ]
  },
  {
   "cell_type": "code",
   "execution_count": 109,
   "metadata": {},
   "outputs": [],
   "source": [
    "#--Saving JSON data to a file--\n",
    "file_name = \"data/data_file.json\" \n",
    "\n",
    "with open(file_name, \"w\") as write_file:\n",
    "    json.dump(data, write_file)"
   ]
  },
  {
   "cell_type": "markdown",
   "metadata": {},
   "source": [
    "## Loading / Saving pandas"
   ]
  },
  {
   "cell_type": "code",
   "execution_count": 456,
   "metadata": {},
   "outputs": [],
   "source": [
    "#--Loading a .csv file to pandas--\n",
    "zones = pd.read_csv('data/taxi_zones_simple.csv')\n",
    "\n",
    "#--Loading a .tsv.gz to pandas--\n",
    "trips = pd.read_csv('data/clean_taxi_sample.tsv.gz', sep='\\t')"
   ]
  },
  {
   "cell_type": "code",
   "execution_count": 466,
   "metadata": {},
   "outputs": [],
   "source": [
    "#--taking a look at the first 5 rows to see if it loaded ok--\n",
    "zones.head()"
   ]
  },
  {
   "cell_type": "code",
   "execution_count": 467,
   "metadata": {},
   "outputs": [],
   "source": [
    "zones.shape"
   ]
  },
  {
   "cell_type": "code",
   "execution_count": null,
   "metadata": {},
   "outputs": [],
   "source": [
    "# trips.head()"
   ]
  },
  {
   "cell_type": "code",
   "execution_count": null,
   "metadata": {},
   "outputs": [],
   "source": [
    "# trips.shape()"
   ]
  },
  {
   "cell_type": "code",
   "execution_count": 462,
   "metadata": {},
   "outputs": [],
   "source": [
    "#--Saving the zones dataframe to a .csv file--\n",
    "zones.to_csv(\"data/zones_output.csv\")\n",
    "# zones.to_csv(\"data/zones_output.csv\", index=False) #--to get rid of the index use this\n",
    "\n",
    "#--Saving the zones dataframe to a .xls file--\n",
    "zones.to_excel(\"data/zones_output.xls\")"
   ]
  },
  {
   "cell_type": "markdown",
   "metadata": {},
   "source": [
    "### *Exercise: Loading/Saving pandas"
   ]
  },
  {
   "cell_type": "code",
   "execution_count": 531,
   "metadata": {},
   "outputs": [],
   "source": [
    "#--1. Load 'data/daily_taxi_counts_2018.tsv' using pandas. Assign the loaded data to the variable counts. \n",
    "\n",
    "counts = pd.read_csv('data/daily_taxi_counts_2018.tsv', sep='\\t')"
   ]
  },
  {
   "cell_type": "code",
   "execution_count": 357,
   "metadata": {},
   "outputs": [],
   "source": [
    "#--2. View your counts data and take a look at the shape--\n",
    "# print(counts.shape())\n",
    "# counts.head()"
   ]
  },
  {
   "cell_type": "code",
   "execution_count": null,
   "metadata": {},
   "outputs": [],
   "source": [
    "#--3. Save the dataframe to a file named 'counts_output.csv'\n",
    "# counts.to_csv(\"data/counts_output.csv\")"
   ]
  },
  {
   "cell_type": "markdown",
   "metadata": {},
   "source": [
    "## Viewing / Selecting pandas\n",
    "- .head()\n",
    "    - allows you to view the first 5 rows in your data, including column names\n",
    "- .sample(5)\n",
    "    - this will give a random sample of 5 rows from the data (you can change from 5 to another number for more or less samples)\n",
    "- .shape\n",
    "    - allows you to see the number of rows and columns within your dataframe\n",
    "- .loc[ ]\n",
    "    - gets rows (or columns) with specific labels from the index\n",
    "- .iloc[ ]\n",
    "    - gets rows (or columns) at specific positions in the index (so it only takes integers)"
   ]
  },
  {
   "cell_type": "code",
   "execution_count": 468,
   "metadata": {},
   "outputs": [],
   "source": [
    "#--Viewing the first 5 rows of your data--\n",
    "trips.head()\n",
    "\n",
    "#--Viewing the first 7 rows of your data: you can change from 7 to whatever number you need--\n",
    "# trips.head(7) "
   ]
  },
  {
   "cell_type": "code",
   "execution_count": null,
   "metadata": {},
   "outputs": [],
   "source": [
    "#--Gets a sample of rows from your dataframe. You can change the number to whatever you need here--\n",
    "trips.sample(5)"
   ]
  },
  {
   "cell_type": "code",
   "execution_count": 476,
   "metadata": {},
   "outputs": [],
   "source": [
    "#--Getting some basic information about the size and shape of the DataFrame:\n",
    "print(\"The number of rows of the dataset is: \", len(trips))\n",
    "print(\"The number of columns of the dataset is: \", len(trips.columns))\n",
    "print(\"The shape of the dataset is: \", trips.shape)"
   ]
  },
  {
   "cell_type": "code",
   "execution_count": 475,
   "metadata": {},
   "outputs": [],
   "source": [
    "#--Seeing all of your dataframe columns in list format--\n",
    "trips.columns"
   ]
  },
  {
   "cell_type": "code",
   "execution_count": 469,
   "metadata": {},
   "outputs": [],
   "source": [
    "trips['passenger_count'] #--extracting one column in Series format\n",
    "\n",
    "#--This will give the same result as trips['passenger_count'] but uses dot notation:\n",
    "# trips.passenger_count"
   ]
  },
  {
   "cell_type": "code",
   "execution_count": 373,
   "metadata": {},
   "outputs": [],
   "source": [
    "#--Column Extraction: double square brackets b/c the column names are the list\n",
    "dist_cost = trips[['PULocationID','trip_distance', 'total_amount']] "
   ]
  },
  {
   "cell_type": "code",
   "execution_count": 470,
   "metadata": {},
   "outputs": [],
   "source": [
    "#--Choosing rows based on a condition in a column--\n",
    "id2 = trips.loc[trips['VendorID'] == 2]\n",
    "id2.head()"
   ]
  },
  {
   "cell_type": "code",
   "execution_count": 474,
   "metadata": {},
   "outputs": [],
   "source": [
    "#--Choosing rows by Combining multiple conditions--\n",
    "trips.loc[(trips['trip_distance'] >= 5) & (trips['trip_distance'] <= 10)] #--want all trips beteween 5 and 10 miles"
   ]
  },
  {
   "cell_type": "code",
   "execution_count": 472,
   "metadata": {},
   "outputs": [],
   "source": [
    "#--Choosing rows by excluding a condition--\n",
    "trips.loc[trips['passenger_count'] != 1]"
   ]
  },
  {
   "cell_type": "code",
   "execution_count": 473,
   "metadata": {},
   "outputs": [],
   "source": [
    "#--Choosing data by column--\n",
    "trips.iloc[:,:4] #--This chooses all of the rows in the dataframe from column 0 to 3"
   ]
  },
  {
   "cell_type": "code",
   "execution_count": null,
   "metadata": {},
   "outputs": [],
   "source": [
    "#--Selecting certain columns from the entire dataframe by name, making a new dataframe--\n",
    "trip_sub = trips[['tpep_pickup_datetime', 'tpep_dropoff_datetime', 'total_amount']]"
   ]
  },
  {
   "cell_type": "markdown",
   "metadata": {},
   "source": [
    "### *Exercise: Viewing/Selecting pandas "
   ]
  },
  {
   "cell_type": "code",
   "execution_count": null,
   "metadata": {},
   "outputs": [],
   "source": [
    "#--1. View the data in the zones dataframe--"
   ]
  },
  {
   "cell_type": "code",
   "execution_count": 486,
   "metadata": {},
   "outputs": [],
   "source": [
    "#--2. How many columns does the zones dataframe have?--\n",
    "# len(zones.columns)"
   ]
  },
  {
   "cell_type": "code",
   "execution_count": 485,
   "metadata": {},
   "outputs": [],
   "source": [
    "#--3. Create a subset of the zones dataframe called queens, where all of the data only comes from the borough queens--\n",
    "# queens = zones.loc[zones['borough']=='Queens']\n",
    "# queens"
   ]
  },
  {
   "cell_type": "code",
   "execution_count": 484,
   "metadata": {},
   "outputs": [],
   "source": [
    "#--4. Find all of the data in the trips dataframe where the fare_amount is between 100 and 200--\n",
    "# trips.loc[(trips['fare_amount'] >= 100) & (trips['fare_amount'] <= 200)]"
   ]
  },
  {
   "cell_type": "markdown",
   "metadata": {},
   "source": [
    "## Checking / Changing Column Types\n",
    "- Viewing column data\n",
    "- Column data can be converted to different types including, but not limited to: str, float, and int\n",
    "- Converting date data with dates and times to more usable formats"
   ]
  },
  {
   "cell_type": "code",
   "execution_count": 512,
   "metadata": {},
   "outputs": [],
   "source": [
    "#--Converting column to int or float--\n",
    "trips.head()"
   ]
  },
  {
   "cell_type": "code",
   "execution_count": 502,
   "metadata": {},
   "outputs": [],
   "source": [
    "#--Check all the data types of the trips dataframe--\n",
    "trips.dtypes"
   ]
  },
  {
   "cell_type": "code",
   "execution_count": 541,
   "metadata": {},
   "outputs": [],
   "source": [
    "#--all the unique values in the payment_type column of the trips dataframe--\n",
    "trips.payment_type.unique()"
   ]
  },
  {
   "cell_type": "code",
   "execution_count": 496,
   "metadata": {},
   "outputs": [],
   "source": [
    "#--Converting all of the values in the payment_type column from int to float--\n",
    "trips.payment_type = trips.payment_type.astype(float) #--This is one way to do it, there are options as well\n",
    "trips.dtypes"
   ]
  },
  {
   "cell_type": "code",
   "execution_count": 530,
   "metadata": {},
   "outputs": [],
   "source": [
    "#--Convert date column to datetime to make data more accessible--\n",
    "counts['date'] = pd.to_datetime(counts.date)"
   ]
  },
  {
   "cell_type": "code",
   "execution_count": 534,
   "metadata": {},
   "outputs": [],
   "source": [
    "#--Create new columns from datetime data, one with month data and one with day of week data--\n",
    "counts['month'] = pd.DatetimeIndex(counts['date']).month\n",
    "counts['day_of_week'] = pd.DatetimeIndex(counts['date']).dayofweek #--Sunday thru Saturday in numerical form\n",
    "counts.head()"
   ]
  },
  {
   "cell_type": "markdown",
   "metadata": {},
   "source": [
    "### *Exercise: Checking/Changing Column Types"
   ]
  },
  {
   "cell_type": "code",
   "execution_count": null,
   "metadata": {},
   "outputs": [],
   "source": [
    "#--1. Convert the payment_type column from trips from float back to int--\n",
    "# trips.payment_type = trips.payment_type.astype(int)\n",
    "# trips.dtypes"
   ]
  },
  {
   "cell_type": "code",
   "execution_count": 554,
   "metadata": {},
   "outputs": [
    {
     "data": {
      "text/html": [
       "<div>\n",
       "<style scoped>\n",
       "    .dataframe tbody tr th:only-of-type {\n",
       "        vertical-align: middle;\n",
       "    }\n",
       "\n",
       "    .dataframe tbody tr th {\n",
       "        vertical-align: top;\n",
       "    }\n",
       "\n",
       "    .dataframe thead th {\n",
       "        text-align: right;\n",
       "    }\n",
       "</style>\n",
       "<table border=\"1\" class=\"dataframe\">\n",
       "  <thead>\n",
       "    <tr style=\"text-align: right;\">\n",
       "      <th></th>\n",
       "      <th>date</th>\n",
       "      <th>n_trips</th>\n",
       "      <th>month</th>\n",
       "      <th>day_of_week</th>\n",
       "      <th>day</th>\n",
       "    </tr>\n",
       "  </thead>\n",
       "  <tbody>\n",
       "    <tr>\n",
       "      <td>0</td>\n",
       "      <td>2018-03-01</td>\n",
       "      <td>332802</td>\n",
       "      <td>3</td>\n",
       "      <td>3</td>\n",
       "      <td>1</td>\n",
       "    </tr>\n",
       "    <tr>\n",
       "      <td>1</td>\n",
       "      <td>2018-03-02</td>\n",
       "      <td>326944</td>\n",
       "      <td>3</td>\n",
       "      <td>4</td>\n",
       "      <td>2</td>\n",
       "    </tr>\n",
       "    <tr>\n",
       "      <td>2</td>\n",
       "      <td>2018-03-03</td>\n",
       "      <td>316823</td>\n",
       "      <td>3</td>\n",
       "      <td>5</td>\n",
       "      <td>3</td>\n",
       "    </tr>\n",
       "    <tr>\n",
       "      <td>3</td>\n",
       "      <td>2018-03-04</td>\n",
       "      <td>286326</td>\n",
       "      <td>3</td>\n",
       "      <td>6</td>\n",
       "      <td>4</td>\n",
       "    </tr>\n",
       "    <tr>\n",
       "      <td>4</td>\n",
       "      <td>2018-03-05</td>\n",
       "      <td>290631</td>\n",
       "      <td>3</td>\n",
       "      <td>0</td>\n",
       "      <td>5</td>\n",
       "    </tr>\n",
       "  </tbody>\n",
       "</table>\n",
       "</div>"
      ],
      "text/plain": [
       "         date  n_trips  month  day_of_week  day\n",
       "0  2018-03-01   332802      3            3    1\n",
       "1  2018-03-02   326944      3            4    2\n",
       "2  2018-03-03   316823      3            5    3\n",
       "3  2018-03-04   286326      3            6    4\n",
       "4  2018-03-05   290631      3            0    5"
      ]
     },
     "execution_count": 554,
     "metadata": {},
     "output_type": "execute_result"
    }
   ],
   "source": [
    "#--2. Create a column called 'day' in trips, where its values are the day number of the month--\n",
    "# counts['day'] = pd.DatetimeIndex(counts['date']).day\n",
    "counts.head()"
   ]
  },
  {
   "cell_type": "markdown",
   "metadata": {},
   "source": [
    "## Summarizing\n",
    "- descriptive statistics\n",
    "    - df.describe()\n",
    "    - df['column_name'].max()\n",
    "    - df['column_name'].sum()\n",
    "    - and more\n",
    "- Any interesting findings in the trips dataframe?"
   ]
  },
  {
   "cell_type": "code",
   "execution_count": 153,
   "metadata": {},
   "outputs": [
    {
     "data": {
      "text/html": [
       "<div>\n",
       "<style scoped>\n",
       "    .dataframe tbody tr th:only-of-type {\n",
       "        vertical-align: middle;\n",
       "    }\n",
       "\n",
       "    .dataframe tbody tr th {\n",
       "        vertical-align: top;\n",
       "    }\n",
       "\n",
       "    .dataframe thead th {\n",
       "        text-align: right;\n",
       "    }\n",
       "</style>\n",
       "<table border=\"1\" class=\"dataframe\">\n",
       "  <thead>\n",
       "    <tr style=\"text-align: right;\">\n",
       "      <th></th>\n",
       "      <th>VendorID</th>\n",
       "      <th>passenger_count</th>\n",
       "      <th>trip_distance</th>\n",
       "      <th>RatecodeID</th>\n",
       "      <th>PULocationID</th>\n",
       "      <th>DOLocationID</th>\n",
       "      <th>payment_type</th>\n",
       "      <th>fare_amount</th>\n",
       "      <th>extra</th>\n",
       "      <th>mta_tax</th>\n",
       "      <th>tip_amount</th>\n",
       "      <th>tolls_amount</th>\n",
       "      <th>improvement_surcharge</th>\n",
       "      <th>total_amount</th>\n",
       "    </tr>\n",
       "  </thead>\n",
       "  <tbody>\n",
       "    <tr>\n",
       "      <td>count</td>\n",
       "      <td>20000.000000</td>\n",
       "      <td>20000.000000</td>\n",
       "      <td>20000.000000</td>\n",
       "      <td>20000.000000</td>\n",
       "      <td>20000.000000</td>\n",
       "      <td>20000.000000</td>\n",
       "      <td>20000.000000</td>\n",
       "      <td>20000.00000</td>\n",
       "      <td>20000.000000</td>\n",
       "      <td>20000.000000</td>\n",
       "      <td>20000.000000</td>\n",
       "      <td>20000.000000</td>\n",
       "      <td>20000.000000</td>\n",
       "      <td>20000.000000</td>\n",
       "    </tr>\n",
       "    <tr>\n",
       "      <td>mean</td>\n",
       "      <td>1.565000</td>\n",
       "      <td>1.735400</td>\n",
       "      <td>2.749124</td>\n",
       "      <td>1.031000</td>\n",
       "      <td>158.827750</td>\n",
       "      <td>159.074550</td>\n",
       "      <td>1.409450</td>\n",
       "      <td>12.58336</td>\n",
       "      <td>0.493790</td>\n",
       "      <td>0.496975</td>\n",
       "      <td>1.621925</td>\n",
       "      <td>0.105998</td>\n",
       "      <td>0.299460</td>\n",
       "      <td>15.611760</td>\n",
       "    </tr>\n",
       "    <tr>\n",
       "      <td>std</td>\n",
       "      <td>0.495769</td>\n",
       "      <td>1.277289</td>\n",
       "      <td>2.961542</td>\n",
       "      <td>0.326411</td>\n",
       "      <td>71.059017</td>\n",
       "      <td>74.392553</td>\n",
       "      <td>0.518859</td>\n",
       "      <td>9.87974</td>\n",
       "      <td>0.060857</td>\n",
       "      <td>0.043052</td>\n",
       "      <td>2.437912</td>\n",
       "      <td>0.895354</td>\n",
       "      <td>0.017226</td>\n",
       "      <td>11.354625</td>\n",
       "    </tr>\n",
       "    <tr>\n",
       "      <td>min</td>\n",
       "      <td>1.000000</td>\n",
       "      <td>0.000000</td>\n",
       "      <td>0.000000</td>\n",
       "      <td>1.000000</td>\n",
       "      <td>3.000000</td>\n",
       "      <td>1.000000</td>\n",
       "      <td>1.000000</td>\n",
       "      <td>-52.00000</td>\n",
       "      <td>-0.500000</td>\n",
       "      <td>-0.500000</td>\n",
       "      <td>0.000000</td>\n",
       "      <td>0.000000</td>\n",
       "      <td>-0.300000</td>\n",
       "      <td>-52.800000</td>\n",
       "    </tr>\n",
       "    <tr>\n",
       "      <td>25%</td>\n",
       "      <td>1.000000</td>\n",
       "      <td>1.000000</td>\n",
       "      <td>1.000000</td>\n",
       "      <td>1.000000</td>\n",
       "      <td>107.000000</td>\n",
       "      <td>95.000000</td>\n",
       "      <td>1.000000</td>\n",
       "      <td>6.50000</td>\n",
       "      <td>0.500000</td>\n",
       "      <td>0.500000</td>\n",
       "      <td>0.000000</td>\n",
       "      <td>0.000000</td>\n",
       "      <td>0.300000</td>\n",
       "      <td>8.760000</td>\n",
       "    </tr>\n",
       "    <tr>\n",
       "      <td>50%</td>\n",
       "      <td>2.000000</td>\n",
       "      <td>1.000000</td>\n",
       "      <td>1.800000</td>\n",
       "      <td>1.000000</td>\n",
       "      <td>158.000000</td>\n",
       "      <td>161.000000</td>\n",
       "      <td>1.000000</td>\n",
       "      <td>10.00000</td>\n",
       "      <td>0.500000</td>\n",
       "      <td>0.500000</td>\n",
       "      <td>1.060000</td>\n",
       "      <td>0.000000</td>\n",
       "      <td>0.300000</td>\n",
       "      <td>12.360000</td>\n",
       "    </tr>\n",
       "    <tr>\n",
       "      <td>75%</td>\n",
       "      <td>2.000000</td>\n",
       "      <td>2.000000</td>\n",
       "      <td>3.400000</td>\n",
       "      <td>1.000000</td>\n",
       "      <td>234.000000</td>\n",
       "      <td>234.000000</td>\n",
       "      <td>2.000000</td>\n",
       "      <td>15.50000</td>\n",
       "      <td>0.500000</td>\n",
       "      <td>0.500000</td>\n",
       "      <td>2.450000</td>\n",
       "      <td>0.000000</td>\n",
       "      <td>0.300000</td>\n",
       "      <td>18.960000</td>\n",
       "    </tr>\n",
       "    <tr>\n",
       "      <td>max</td>\n",
       "      <td>2.000000</td>\n",
       "      <td>6.000000</td>\n",
       "      <td>37.820000</td>\n",
       "      <td>6.000000</td>\n",
       "      <td>265.000000</td>\n",
       "      <td>265.000000</td>\n",
       "      <td>4.000000</td>\n",
       "      <td>250.00000</td>\n",
       "      <td>1.000000</td>\n",
       "      <td>0.500000</td>\n",
       "      <td>80.000000</td>\n",
       "      <td>26.020000</td>\n",
       "      <td>0.300000</td>\n",
       "      <td>250.800000</td>\n",
       "    </tr>\n",
       "  </tbody>\n",
       "</table>\n",
       "</div>"
      ],
      "text/plain": [
       "           VendorID  passenger_count  trip_distance    RatecodeID  \\\n",
       "count  20000.000000     20000.000000   20000.000000  20000.000000   \n",
       "mean       1.565000         1.735400       2.749124      1.031000   \n",
       "std        0.495769         1.277289       2.961542      0.326411   \n",
       "min        1.000000         0.000000       0.000000      1.000000   \n",
       "25%        1.000000         1.000000       1.000000      1.000000   \n",
       "50%        2.000000         1.000000       1.800000      1.000000   \n",
       "75%        2.000000         2.000000       3.400000      1.000000   \n",
       "max        2.000000         6.000000      37.820000      6.000000   \n",
       "\n",
       "       PULocationID  DOLocationID  payment_type  fare_amount         extra  \\\n",
       "count  20000.000000  20000.000000  20000.000000  20000.00000  20000.000000   \n",
       "mean     158.827750    159.074550      1.409450     12.58336      0.493790   \n",
       "std       71.059017     74.392553      0.518859      9.87974      0.060857   \n",
       "min        3.000000      1.000000      1.000000    -52.00000     -0.500000   \n",
       "25%      107.000000     95.000000      1.000000      6.50000      0.500000   \n",
       "50%      158.000000    161.000000      1.000000     10.00000      0.500000   \n",
       "75%      234.000000    234.000000      2.000000     15.50000      0.500000   \n",
       "max      265.000000    265.000000      4.000000    250.00000      1.000000   \n",
       "\n",
       "            mta_tax    tip_amount  tolls_amount  improvement_surcharge  \\\n",
       "count  20000.000000  20000.000000  20000.000000           20000.000000   \n",
       "mean       0.496975      1.621925      0.105998               0.299460   \n",
       "std        0.043052      2.437912      0.895354               0.017226   \n",
       "min       -0.500000      0.000000      0.000000              -0.300000   \n",
       "25%        0.500000      0.000000      0.000000               0.300000   \n",
       "50%        0.500000      1.060000      0.000000               0.300000   \n",
       "75%        0.500000      2.450000      0.000000               0.300000   \n",
       "max        0.500000     80.000000     26.020000               0.300000   \n",
       "\n",
       "       total_amount  \n",
       "count  20000.000000  \n",
       "mean      15.611760  \n",
       "std       11.354625  \n",
       "min      -52.800000  \n",
       "25%        8.760000  \n",
       "50%       12.360000  \n",
       "75%       18.960000  \n",
       "max      250.800000  "
      ]
     },
     "execution_count": 153,
     "metadata": {},
     "output_type": "execute_result"
    }
   ],
   "source": [
    "#-- df.describe() returns statistical details like percentile, mean, std etc. of a data frame or a series of numeric values--\n",
    "trips.describe()"
   ]
  },
  {
   "cell_type": "markdown",
   "metadata": {},
   "source": [
    "### *Exercise: Summarizing"
   ]
  },
  {
   "cell_type": "code",
   "execution_count": 555,
   "metadata": {},
   "outputs": [
    {
     "data": {
      "text/html": [
       "<div>\n",
       "<style scoped>\n",
       "    .dataframe tbody tr th:only-of-type {\n",
       "        vertical-align: middle;\n",
       "    }\n",
       "\n",
       "    .dataframe tbody tr th {\n",
       "        vertical-align: top;\n",
       "    }\n",
       "\n",
       "    .dataframe thead th {\n",
       "        text-align: right;\n",
       "    }\n",
       "</style>\n",
       "<table border=\"1\" class=\"dataframe\">\n",
       "  <thead>\n",
       "    <tr style=\"text-align: right;\">\n",
       "      <th></th>\n",
       "      <th>n_trips</th>\n",
       "      <th>month</th>\n",
       "      <th>day_of_week</th>\n",
       "      <th>day</th>\n",
       "    </tr>\n",
       "  </thead>\n",
       "  <tbody>\n",
       "    <tr>\n",
       "      <td>count</td>\n",
       "      <td>365.000000</td>\n",
       "      <td>365.000000</td>\n",
       "      <td>365.000000</td>\n",
       "      <td>365.000000</td>\n",
       "    </tr>\n",
       "    <tr>\n",
       "      <td>mean</td>\n",
       "      <td>281636.715068</td>\n",
       "      <td>6.526027</td>\n",
       "      <td>2.991781</td>\n",
       "      <td>15.720548</td>\n",
       "    </tr>\n",
       "    <tr>\n",
       "      <td>std</td>\n",
       "      <td>37644.054420</td>\n",
       "      <td>3.452584</td>\n",
       "      <td>2.006155</td>\n",
       "      <td>8.808321</td>\n",
       "    </tr>\n",
       "    <tr>\n",
       "      <td>min</td>\n",
       "      <td>122222.000000</td>\n",
       "      <td>1.000000</td>\n",
       "      <td>0.000000</td>\n",
       "      <td>1.000000</td>\n",
       "    </tr>\n",
       "    <tr>\n",
       "      <td>25%</td>\n",
       "      <td>261619.000000</td>\n",
       "      <td>4.000000</td>\n",
       "      <td>1.000000</td>\n",
       "      <td>8.000000</td>\n",
       "    </tr>\n",
       "    <tr>\n",
       "      <td>50%</td>\n",
       "      <td>286326.000000</td>\n",
       "      <td>7.000000</td>\n",
       "      <td>3.000000</td>\n",
       "      <td>16.000000</td>\n",
       "    </tr>\n",
       "    <tr>\n",
       "      <td>75%</td>\n",
       "      <td>308094.000000</td>\n",
       "      <td>10.000000</td>\n",
       "      <td>5.000000</td>\n",
       "      <td>23.000000</td>\n",
       "    </tr>\n",
       "    <tr>\n",
       "      <td>max</td>\n",
       "      <td>349840.000000</td>\n",
       "      <td>12.000000</td>\n",
       "      <td>6.000000</td>\n",
       "      <td>31.000000</td>\n",
       "    </tr>\n",
       "  </tbody>\n",
       "</table>\n",
       "</div>"
      ],
      "text/plain": [
       "             n_trips       month  day_of_week         day\n",
       "count     365.000000  365.000000   365.000000  365.000000\n",
       "mean   281636.715068    6.526027     2.991781   15.720548\n",
       "std     37644.054420    3.452584     2.006155    8.808321\n",
       "min    122222.000000    1.000000     0.000000    1.000000\n",
       "25%    261619.000000    4.000000     1.000000    8.000000\n",
       "50%    286326.000000    7.000000     3.000000   16.000000\n",
       "75%    308094.000000   10.000000     5.000000   23.000000\n",
       "max    349840.000000   12.000000     6.000000   31.000000"
      ]
     },
     "execution_count": 555,
     "metadata": {},
     "output_type": "execute_result"
    }
   ],
   "source": [
    "#--1. Find the maximum number of trips in the counts dataframe?--\n",
    "counts.describe()"
   ]
  },
  {
   "cell_type": "code",
   "execution_count": 558,
   "metadata": {},
   "outputs": [
    {
     "data": {
      "text/plain": [
       "date           2018-03-012018-03-022018-03-032018-03-042018-0...\n",
       "n_trips                                                  9429041\n",
       "month                                                         93\n",
       "day_of_week                                                   96\n",
       "day                                                          496\n",
       "dtype: object"
      ]
     },
     "execution_count": 558,
     "metadata": {},
     "output_type": "execute_result"
    }
   ],
   "source": [
    "#--2. What's the total number of trips in March in the counts dataframe?--\n",
    "counts.loc[counts['month'] == 3].sum()"
   ]
  },
  {
   "cell_type": "markdown",
   "metadata": {},
   "source": [
    "## Replacing"
   ]
  },
  {
   "cell_type": "code",
   "execution_count": 187,
   "metadata": {
    "collapsed": true,
    "jupyter": {
     "outputs_hidden": true
    }
   },
   "outputs": [
    {
     "data": {
      "text/html": [
       "<div>\n",
       "<style scoped>\n",
       "    .dataframe tbody tr th:only-of-type {\n",
       "        vertical-align: middle;\n",
       "    }\n",
       "\n",
       "    .dataframe tbody tr th {\n",
       "        vertical-align: top;\n",
       "    }\n",
       "\n",
       "    .dataframe thead th {\n",
       "        text-align: right;\n",
       "    }\n",
       "</style>\n",
       "<table border=\"1\" class=\"dataframe\">\n",
       "  <thead>\n",
       "    <tr style=\"text-align: right;\">\n",
       "      <th></th>\n",
       "      <th>locationid</th>\n",
       "      <th>zone</th>\n",
       "      <th>borough</th>\n",
       "    </tr>\n",
       "  </thead>\n",
       "  <tbody>\n",
       "    <tr>\n",
       "      <td>0</td>\n",
       "      <td>1</td>\n",
       "      <td>Newark Airport</td>\n",
       "      <td>EWR</td>\n",
       "    </tr>\n",
       "    <tr>\n",
       "      <td>1</td>\n",
       "      <td>2</td>\n",
       "      <td>Jamaica Bay</td>\n",
       "      <td>Queens</td>\n",
       "    </tr>\n",
       "    <tr>\n",
       "      <td>2</td>\n",
       "      <td>3</td>\n",
       "      <td>Allerton/Pelham Gardens</td>\n",
       "      <td>Bronx</td>\n",
       "    </tr>\n",
       "    <tr>\n",
       "      <td>3</td>\n",
       "      <td>4</td>\n",
       "      <td>Alphabet City</td>\n",
       "      <td>Manhattan</td>\n",
       "    </tr>\n",
       "    <tr>\n",
       "      <td>4</td>\n",
       "      <td>5</td>\n",
       "      <td>Arden Heights</td>\n",
       "      <td>Staten Island</td>\n",
       "    </tr>\n",
       "  </tbody>\n",
       "</table>\n",
       "</div>"
      ],
      "text/plain": [
       "   locationid                     zone        borough\n",
       "0           1           Newark Airport            EWR\n",
       "1           2              Jamaica Bay         Queens\n",
       "2           3  Allerton/Pelham Gardens          Bronx\n",
       "3           4            Alphabet City      Manhattan\n",
       "4           5            Arden Heights  Staten Island"
      ]
     },
     "execution_count": 187,
     "metadata": {},
     "output_type": "execute_result"
    }
   ],
   "source": [
    "zones.head()"
   ]
  },
  {
   "cell_type": "code",
   "execution_count": 259,
   "metadata": {},
   "outputs": [],
   "source": [
    "# this will replace instanceas of \"Newark Airport\" with \"Newark Liberty International Airport\"\n",
    "zones = zones.replace(to_replace =[\"Newark Airport\"],  \n",
    "                            value = \"Newark Liberty International Airport\") "
   ]
  },
  {
   "cell_type": "code",
   "execution_count": 261,
   "metadata": {
    "collapsed": true,
    "jupyter": {
     "outputs_hidden": true
    }
   },
   "outputs": [
    {
     "data": {
      "text/html": [
       "<div>\n",
       "<style scoped>\n",
       "    .dataframe tbody tr th:only-of-type {\n",
       "        vertical-align: middle;\n",
       "    }\n",
       "\n",
       "    .dataframe tbody tr th {\n",
       "        vertical-align: top;\n",
       "    }\n",
       "\n",
       "    .dataframe thead th {\n",
       "        text-align: right;\n",
       "    }\n",
       "</style>\n",
       "<table border=\"1\" class=\"dataframe\">\n",
       "  <thead>\n",
       "    <tr style=\"text-align: right;\">\n",
       "      <th></th>\n",
       "      <th>locationid</th>\n",
       "      <th>zone</th>\n",
       "      <th>borough</th>\n",
       "    </tr>\n",
       "  </thead>\n",
       "  <tbody>\n",
       "    <tr>\n",
       "      <td>0</td>\n",
       "      <td>1</td>\n",
       "      <td>Newark Liberty International Airport</td>\n",
       "      <td>EWR</td>\n",
       "    </tr>\n",
       "    <tr>\n",
       "      <td>1</td>\n",
       "      <td>2</td>\n",
       "      <td>Jamaica Bay</td>\n",
       "      <td>Queens</td>\n",
       "    </tr>\n",
       "    <tr>\n",
       "      <td>2</td>\n",
       "      <td>3</td>\n",
       "      <td>Allerton/Pelham Gardens</td>\n",
       "      <td>Bronx</td>\n",
       "    </tr>\n",
       "    <tr>\n",
       "      <td>3</td>\n",
       "      <td>4</td>\n",
       "      <td>Alphabet City</td>\n",
       "      <td>Manhattan</td>\n",
       "    </tr>\n",
       "    <tr>\n",
       "      <td>4</td>\n",
       "      <td>5</td>\n",
       "      <td>Arden Heights</td>\n",
       "      <td>Staten Island</td>\n",
       "    </tr>\n",
       "  </tbody>\n",
       "</table>\n",
       "</div>"
      ],
      "text/plain": [
       "   locationid                                  zone        borough\n",
       "0           1  Newark Liberty International Airport            EWR\n",
       "1           2                           Jamaica Bay         Queens\n",
       "2           3               Allerton/Pelham Gardens          Bronx\n",
       "3           4                         Alphabet City      Manhattan\n",
       "4           5                         Arden Heights  Staten Island"
      ]
     },
     "execution_count": 261,
     "metadata": {},
     "output_type": "execute_result"
    }
   ],
   "source": [
    "zones.head()"
   ]
  },
  {
   "cell_type": "code",
   "execution_count": null,
   "metadata": {},
   "outputs": [],
   "source": [
    "#--Replace nonetype with.....\n",
    "\n",
    "\n",
    "\n",
    "\n"
   ]
  },
  {
   "cell_type": "code",
   "execution_count": null,
   "metadata": {},
   "outputs": [],
   "source": [
    "# # Making data frame from the csv file \n",
    "# df = pd.read_csv(\"nba.csv\") \n",
    "  \n",
    "# # will replace  Nan value in dataframe with value 0\n",
    "# df.replace(to_replace = np.nan, value =0) "
   ]
  },
  {
   "cell_type": "markdown",
   "metadata": {},
   "source": [
    "### *Exercise: Replacing"
   ]
  },
  {
   "cell_type": "code",
   "execution_count": null,
   "metadata": {},
   "outputs": [],
   "source": [
    "#--1. "
   ]
  },
  {
   "cell_type": "code",
   "execution_count": null,
   "metadata": {},
   "outputs": [],
   "source": []
  },
  {
   "cell_type": "markdown",
   "metadata": {},
   "source": [
    "## Make New Columns (vector ops)"
   ]
  },
  {
   "cell_type": "code",
   "execution_count": 561,
   "metadata": {},
   "outputs": [],
   "source": [
    "trips.shape"
   ]
  },
  {
   "cell_type": "code",
   "execution_count": 229,
   "metadata": {},
   "outputs": [],
   "source": [
    "#--tip percentage per trip--\n",
    "trips['tip_percent'] = trips['tip_amount']/trips['total_amount']"
   ]
  },
  {
   "cell_type": "code",
   "execution_count": 562,
   "metadata": {},
   "outputs": [],
   "source": [
    "trips.shape"
   ]
  },
  {
   "cell_type": "code",
   "execution_count": 563,
   "metadata": {},
   "outputs": [],
   "source": [
    "# trips.head(10)"
   ]
  },
  {
   "cell_type": "code",
   "execution_count": null,
   "metadata": {},
   "outputs": [],
   "source": [
    "#--TODO: Add another example, then add an exercise here--"
   ]
  },
  {
   "cell_type": "markdown",
   "metadata": {},
   "source": [
    "### *Exercise: Making New Columns with vector operations"
   ]
  },
  {
   "cell_type": "code",
   "execution_count": null,
   "metadata": {},
   "outputs": [],
   "source": [
    "#--1. "
   ]
  },
  {
   "cell_type": "markdown",
   "metadata": {},
   "source": [
    "## Applying Functions to Columns\n",
    "- Applying a function directly to a column\n",
    "    - Example: The tip_percent column we created above looks a bit messy, lets fix it with the round() function \n",
    "- Using .apply()\n",
    "    - Allows you to apply a function along an axis in a dataframe"
   ]
  },
  {
   "cell_type": "code",
   "execution_count": 231,
   "metadata": {},
   "outputs": [],
   "source": [
    "#-- Rounding values: this will change all of the values in the trips['tip_percent'] column --\n",
    "trips['tip_percent'] = round(trips['tip_percent'], 4) #--change the value from a 4 to a 2 and see what happens--"
   ]
  },
  {
   "cell_type": "code",
   "execution_count": 233,
   "metadata": {
    "collapsed": true,
    "jupyter": {
     "outputs_hidden": true
    }
   },
   "outputs": [
    {
     "data": {
      "text/html": [
       "<div>\n",
       "<style scoped>\n",
       "    .dataframe tbody tr th:only-of-type {\n",
       "        vertical-align: middle;\n",
       "    }\n",
       "\n",
       "    .dataframe tbody tr th {\n",
       "        vertical-align: top;\n",
       "    }\n",
       "\n",
       "    .dataframe thead th {\n",
       "        text-align: right;\n",
       "    }\n",
       "</style>\n",
       "<table border=\"1\" class=\"dataframe\">\n",
       "  <thead>\n",
       "    <tr style=\"text-align: right;\">\n",
       "      <th></th>\n",
       "      <th>VendorID</th>\n",
       "      <th>tpep_pickup_datetime</th>\n",
       "      <th>tpep_dropoff_datetime</th>\n",
       "      <th>passenger_count</th>\n",
       "      <th>trip_distance</th>\n",
       "      <th>RatecodeID</th>\n",
       "      <th>store_and_fwd_flag</th>\n",
       "      <th>PULocationID</th>\n",
       "      <th>DOLocationID</th>\n",
       "      <th>payment_type</th>\n",
       "      <th>fare_amount</th>\n",
       "      <th>extra</th>\n",
       "      <th>mta_tax</th>\n",
       "      <th>tip_amount</th>\n",
       "      <th>tolls_amount</th>\n",
       "      <th>improvement_surcharge</th>\n",
       "      <th>total_amount</th>\n",
       "      <th>tip_percent</th>\n",
       "    </tr>\n",
       "  </thead>\n",
       "  <tbody>\n",
       "    <tr>\n",
       "      <td>0</td>\n",
       "      <td>2</td>\n",
       "      <td>2018-01-01 00:00:00</td>\n",
       "      <td>2018-01-01 00:00:00</td>\n",
       "      <td>1</td>\n",
       "      <td>9.14</td>\n",
       "      <td>1</td>\n",
       "      <td>N</td>\n",
       "      <td>229</td>\n",
       "      <td>17</td>\n",
       "      <td>2</td>\n",
       "      <td>27.0</td>\n",
       "      <td>0.0</td>\n",
       "      <td>0.5</td>\n",
       "      <td>0.00</td>\n",
       "      <td>0.0</td>\n",
       "      <td>0.3</td>\n",
       "      <td>27.80</td>\n",
       "      <td>0.0000</td>\n",
       "    </tr>\n",
       "    <tr>\n",
       "      <td>1</td>\n",
       "      <td>2</td>\n",
       "      <td>2018-01-01 00:00:02</td>\n",
       "      <td>2018-01-01 00:08:48</td>\n",
       "      <td>1</td>\n",
       "      <td>1.36</td>\n",
       "      <td>1</td>\n",
       "      <td>N</td>\n",
       "      <td>68</td>\n",
       "      <td>249</td>\n",
       "      <td>2</td>\n",
       "      <td>7.5</td>\n",
       "      <td>0.5</td>\n",
       "      <td>0.5</td>\n",
       "      <td>0.00</td>\n",
       "      <td>0.0</td>\n",
       "      <td>0.3</td>\n",
       "      <td>8.80</td>\n",
       "      <td>0.0000</td>\n",
       "    </tr>\n",
       "    <tr>\n",
       "      <td>2</td>\n",
       "      <td>1</td>\n",
       "      <td>2018-01-01 00:00:03</td>\n",
       "      <td>2018-01-01 00:21:06</td>\n",
       "      <td>1</td>\n",
       "      <td>6.10</td>\n",
       "      <td>1</td>\n",
       "      <td>N</td>\n",
       "      <td>255</td>\n",
       "      <td>236</td>\n",
       "      <td>2</td>\n",
       "      <td>20.5</td>\n",
       "      <td>0.5</td>\n",
       "      <td>0.5</td>\n",
       "      <td>0.00</td>\n",
       "      <td>0.0</td>\n",
       "      <td>0.3</td>\n",
       "      <td>21.80</td>\n",
       "      <td>0.0000</td>\n",
       "    </tr>\n",
       "    <tr>\n",
       "      <td>3</td>\n",
       "      <td>2</td>\n",
       "      <td>2018-01-01 00:00:03</td>\n",
       "      <td>2018-01-01 00:03:52</td>\n",
       "      <td>3</td>\n",
       "      <td>0.99</td>\n",
       "      <td>1</td>\n",
       "      <td>N</td>\n",
       "      <td>236</td>\n",
       "      <td>43</td>\n",
       "      <td>2</td>\n",
       "      <td>5.5</td>\n",
       "      <td>0.5</td>\n",
       "      <td>0.5</td>\n",
       "      <td>0.00</td>\n",
       "      <td>0.0</td>\n",
       "      <td>0.3</td>\n",
       "      <td>6.80</td>\n",
       "      <td>0.0000</td>\n",
       "    </tr>\n",
       "    <tr>\n",
       "      <td>4</td>\n",
       "      <td>1</td>\n",
       "      <td>2018-01-01 00:00:04</td>\n",
       "      <td>2018-01-01 00:13:24</td>\n",
       "      <td>1</td>\n",
       "      <td>3.60</td>\n",
       "      <td>1</td>\n",
       "      <td>N</td>\n",
       "      <td>37</td>\n",
       "      <td>157</td>\n",
       "      <td>2</td>\n",
       "      <td>13.5</td>\n",
       "      <td>0.5</td>\n",
       "      <td>0.5</td>\n",
       "      <td>0.00</td>\n",
       "      <td>0.0</td>\n",
       "      <td>0.3</td>\n",
       "      <td>14.80</td>\n",
       "      <td>0.0000</td>\n",
       "    </tr>\n",
       "    <tr>\n",
       "      <td>5</td>\n",
       "      <td>2</td>\n",
       "      <td>2018-01-01 00:00:04</td>\n",
       "      <td>2018-01-01 00:08:13</td>\n",
       "      <td>1</td>\n",
       "      <td>1.59</td>\n",
       "      <td>1</td>\n",
       "      <td>N</td>\n",
       "      <td>141</td>\n",
       "      <td>161</td>\n",
       "      <td>2</td>\n",
       "      <td>8.0</td>\n",
       "      <td>0.5</td>\n",
       "      <td>0.5</td>\n",
       "      <td>0.00</td>\n",
       "      <td>0.0</td>\n",
       "      <td>0.3</td>\n",
       "      <td>9.30</td>\n",
       "      <td>0.0000</td>\n",
       "    </tr>\n",
       "    <tr>\n",
       "      <td>6</td>\n",
       "      <td>1</td>\n",
       "      <td>2018-01-01 00:00:06</td>\n",
       "      <td>2018-01-01 00:24:34</td>\n",
       "      <td>1</td>\n",
       "      <td>6.90</td>\n",
       "      <td>1</td>\n",
       "      <td>N</td>\n",
       "      <td>162</td>\n",
       "      <td>49</td>\n",
       "      <td>1</td>\n",
       "      <td>23.5</td>\n",
       "      <td>0.5</td>\n",
       "      <td>0.5</td>\n",
       "      <td>4.95</td>\n",
       "      <td>0.0</td>\n",
       "      <td>0.3</td>\n",
       "      <td>29.75</td>\n",
       "      <td>0.1664</td>\n",
       "    </tr>\n",
       "    <tr>\n",
       "      <td>7</td>\n",
       "      <td>1</td>\n",
       "      <td>2018-01-01 00:00:11</td>\n",
       "      <td>2018-01-01 00:06:05</td>\n",
       "      <td>1</td>\n",
       "      <td>1.70</td>\n",
       "      <td>1</td>\n",
       "      <td>N</td>\n",
       "      <td>238</td>\n",
       "      <td>143</td>\n",
       "      <td>1</td>\n",
       "      <td>7.0</td>\n",
       "      <td>0.5</td>\n",
       "      <td>0.5</td>\n",
       "      <td>1.65</td>\n",
       "      <td>0.0</td>\n",
       "      <td>0.3</td>\n",
       "      <td>9.95</td>\n",
       "      <td>0.1658</td>\n",
       "    </tr>\n",
       "    <tr>\n",
       "      <td>8</td>\n",
       "      <td>1</td>\n",
       "      <td>2018-01-01 00:00:13</td>\n",
       "      <td>2018-01-01 00:07:03</td>\n",
       "      <td>1</td>\n",
       "      <td>0.90</td>\n",
       "      <td>1</td>\n",
       "      <td>N</td>\n",
       "      <td>144</td>\n",
       "      <td>249</td>\n",
       "      <td>1</td>\n",
       "      <td>6.0</td>\n",
       "      <td>0.5</td>\n",
       "      <td>0.5</td>\n",
       "      <td>1.80</td>\n",
       "      <td>0.0</td>\n",
       "      <td>0.3</td>\n",
       "      <td>9.10</td>\n",
       "      <td>0.1978</td>\n",
       "    </tr>\n",
       "    <tr>\n",
       "      <td>9</td>\n",
       "      <td>1</td>\n",
       "      <td>2018-01-01 00:00:14</td>\n",
       "      <td>2018-01-01 00:11:38</td>\n",
       "      <td>1</td>\n",
       "      <td>4.00</td>\n",
       "      <td>1</td>\n",
       "      <td>N</td>\n",
       "      <td>170</td>\n",
       "      <td>232</td>\n",
       "      <td>2</td>\n",
       "      <td>14.0</td>\n",
       "      <td>0.5</td>\n",
       "      <td>0.5</td>\n",
       "      <td>0.00</td>\n",
       "      <td>0.0</td>\n",
       "      <td>0.3</td>\n",
       "      <td>15.30</td>\n",
       "      <td>0.0000</td>\n",
       "    </tr>\n",
       "  </tbody>\n",
       "</table>\n",
       "</div>"
      ],
      "text/plain": [
       "   VendorID tpep_pickup_datetime tpep_dropoff_datetime  passenger_count  \\\n",
       "0         2  2018-01-01 00:00:00   2018-01-01 00:00:00                1   \n",
       "1         2  2018-01-01 00:00:02   2018-01-01 00:08:48                1   \n",
       "2         1  2018-01-01 00:00:03   2018-01-01 00:21:06                1   \n",
       "3         2  2018-01-01 00:00:03   2018-01-01 00:03:52                3   \n",
       "4         1  2018-01-01 00:00:04   2018-01-01 00:13:24                1   \n",
       "5         2  2018-01-01 00:00:04   2018-01-01 00:08:13                1   \n",
       "6         1  2018-01-01 00:00:06   2018-01-01 00:24:34                1   \n",
       "7         1  2018-01-01 00:00:11   2018-01-01 00:06:05                1   \n",
       "8         1  2018-01-01 00:00:13   2018-01-01 00:07:03                1   \n",
       "9         1  2018-01-01 00:00:14   2018-01-01 00:11:38                1   \n",
       "\n",
       "   trip_distance  RatecodeID store_and_fwd_flag  PULocationID  DOLocationID  \\\n",
       "0           9.14           1                  N           229            17   \n",
       "1           1.36           1                  N            68           249   \n",
       "2           6.10           1                  N           255           236   \n",
       "3           0.99           1                  N           236            43   \n",
       "4           3.60           1                  N            37           157   \n",
       "5           1.59           1                  N           141           161   \n",
       "6           6.90           1                  N           162            49   \n",
       "7           1.70           1                  N           238           143   \n",
       "8           0.90           1                  N           144           249   \n",
       "9           4.00           1                  N           170           232   \n",
       "\n",
       "   payment_type  fare_amount  extra  mta_tax  tip_amount  tolls_amount  \\\n",
       "0             2         27.0    0.0      0.5        0.00           0.0   \n",
       "1             2          7.5    0.5      0.5        0.00           0.0   \n",
       "2             2         20.5    0.5      0.5        0.00           0.0   \n",
       "3             2          5.5    0.5      0.5        0.00           0.0   \n",
       "4             2         13.5    0.5      0.5        0.00           0.0   \n",
       "5             2          8.0    0.5      0.5        0.00           0.0   \n",
       "6             1         23.5    0.5      0.5        4.95           0.0   \n",
       "7             1          7.0    0.5      0.5        1.65           0.0   \n",
       "8             1          6.0    0.5      0.5        1.80           0.0   \n",
       "9             2         14.0    0.5      0.5        0.00           0.0   \n",
       "\n",
       "   improvement_surcharge  total_amount  tip_percent  \n",
       "0                    0.3         27.80       0.0000  \n",
       "1                    0.3          8.80       0.0000  \n",
       "2                    0.3         21.80       0.0000  \n",
       "3                    0.3          6.80       0.0000  \n",
       "4                    0.3         14.80       0.0000  \n",
       "5                    0.3          9.30       0.0000  \n",
       "6                    0.3         29.75       0.1664  \n",
       "7                    0.3          9.95       0.1658  \n",
       "8                    0.3          9.10       0.1978  \n",
       "9                    0.3         15.30       0.0000  "
      ]
     },
     "execution_count": 233,
     "metadata": {},
     "output_type": "execute_result"
    }
   ],
   "source": [
    "trips.head(10)"
   ]
  },
  {
   "cell_type": "code",
   "execution_count": 239,
   "metadata": {},
   "outputs": [
    {
     "data": {
      "text/plain": [
       "total_amount    312235.2\n",
       "dtype: float64"
      ]
     },
     "execution_count": 239,
     "metadata": {},
     "output_type": "execute_result"
    }
   ],
   "source": [
    "#--Using .apply() to find the sum of all taxi ride totals in this dataset--\n",
    "trips[['total_amount']].apply(np.sum, axis=0)"
   ]
  },
  {
   "cell_type": "code",
   "execution_count": 249,
   "metadata": {},
   "outputs": [
    {
     "data": {
      "text/html": [
       "<div>\n",
       "<style scoped>\n",
       "    .dataframe tbody tr th:only-of-type {\n",
       "        vertical-align: middle;\n",
       "    }\n",
       "\n",
       "    .dataframe tbody tr th {\n",
       "        vertical-align: top;\n",
       "    }\n",
       "\n",
       "    .dataframe thead th {\n",
       "        text-align: right;\n",
       "    }\n",
       "</style>\n",
       "<table border=\"1\" class=\"dataframe\">\n",
       "  <thead>\n",
       "    <tr style=\"text-align: right;\">\n",
       "      <th></th>\n",
       "      <th>locationid</th>\n",
       "      <th>zone</th>\n",
       "      <th>borough</th>\n",
       "    </tr>\n",
       "  </thead>\n",
       "  <tbody>\n",
       "    <tr>\n",
       "      <td>0</td>\n",
       "      <td>1</td>\n",
       "      <td>Newark Airport</td>\n",
       "      <td>EWR</td>\n",
       "    </tr>\n",
       "    <tr>\n",
       "      <td>1</td>\n",
       "      <td>2</td>\n",
       "      <td>Jamaica Bay</td>\n",
       "      <td>Queens</td>\n",
       "    </tr>\n",
       "    <tr>\n",
       "      <td>2</td>\n",
       "      <td>3</td>\n",
       "      <td>Allerton/Pelham Gardens</td>\n",
       "      <td>Bronx</td>\n",
       "    </tr>\n",
       "    <tr>\n",
       "      <td>3</td>\n",
       "      <td>4</td>\n",
       "      <td>Alphabet City</td>\n",
       "      <td>Manhattan</td>\n",
       "    </tr>\n",
       "    <tr>\n",
       "      <td>4</td>\n",
       "      <td>5</td>\n",
       "      <td>Arden Heights</td>\n",
       "      <td>Staten Island</td>\n",
       "    </tr>\n",
       "  </tbody>\n",
       "</table>\n",
       "</div>"
      ],
      "text/plain": [
       "   locationid                     zone        borough\n",
       "0           1           Newark Airport            EWR\n",
       "1           2              Jamaica Bay         Queens\n",
       "2           3  Allerton/Pelham Gardens          Bronx\n",
       "3           4            Alphabet City      Manhattan\n",
       "4           5            Arden Heights  Staten Island"
      ]
     },
     "execution_count": 249,
     "metadata": {},
     "output_type": "execute_result"
    }
   ],
   "source": [
    "zones.head()"
   ]
  },
  {
   "cell_type": "code",
   "execution_count": 250,
   "metadata": {},
   "outputs": [],
   "source": [
    "#--Applying .lower() to columns in the zones df--\n",
    "zones['zone'] = zones['zone'].str.lower()"
   ]
  },
  {
   "cell_type": "code",
   "execution_count": 251,
   "metadata": {},
   "outputs": [
    {
     "data": {
      "text/html": [
       "<div>\n",
       "<style scoped>\n",
       "    .dataframe tbody tr th:only-of-type {\n",
       "        vertical-align: middle;\n",
       "    }\n",
       "\n",
       "    .dataframe tbody tr th {\n",
       "        vertical-align: top;\n",
       "    }\n",
       "\n",
       "    .dataframe thead th {\n",
       "        text-align: right;\n",
       "    }\n",
       "</style>\n",
       "<table border=\"1\" class=\"dataframe\">\n",
       "  <thead>\n",
       "    <tr style=\"text-align: right;\">\n",
       "      <th></th>\n",
       "      <th>locationid</th>\n",
       "      <th>zone</th>\n",
       "      <th>borough</th>\n",
       "    </tr>\n",
       "  </thead>\n",
       "  <tbody>\n",
       "    <tr>\n",
       "      <td>0</td>\n",
       "      <td>1</td>\n",
       "      <td>newark airport</td>\n",
       "      <td>EWR</td>\n",
       "    </tr>\n",
       "    <tr>\n",
       "      <td>1</td>\n",
       "      <td>2</td>\n",
       "      <td>jamaica bay</td>\n",
       "      <td>Queens</td>\n",
       "    </tr>\n",
       "    <tr>\n",
       "      <td>2</td>\n",
       "      <td>3</td>\n",
       "      <td>allerton/pelham gardens</td>\n",
       "      <td>Bronx</td>\n",
       "    </tr>\n",
       "    <tr>\n",
       "      <td>3</td>\n",
       "      <td>4</td>\n",
       "      <td>alphabet city</td>\n",
       "      <td>Manhattan</td>\n",
       "    </tr>\n",
       "    <tr>\n",
       "      <td>4</td>\n",
       "      <td>5</td>\n",
       "      <td>arden heights</td>\n",
       "      <td>Staten Island</td>\n",
       "    </tr>\n",
       "  </tbody>\n",
       "</table>\n",
       "</div>"
      ],
      "text/plain": [
       "   locationid                     zone        borough\n",
       "0           1           newark airport            EWR\n",
       "1           2              jamaica bay         Queens\n",
       "2           3  allerton/pelham gardens          Bronx\n",
       "3           4            alphabet city      Manhattan\n",
       "4           5            arden heights  Staten Island"
      ]
     },
     "execution_count": 251,
     "metadata": {},
     "output_type": "execute_result"
    }
   ],
   "source": [
    "zones.head()"
   ]
  },
  {
   "cell_type": "code",
   "execution_count": null,
   "metadata": {},
   "outputs": [],
   "source": []
  },
  {
   "cell_type": "markdown",
   "metadata": {},
   "source": [
    "## Renaming Things\n",
    "- The rename() method can be used to rename any index, column, or row"
   ]
  },
  {
   "cell_type": "code",
   "execution_count": 316,
   "metadata": {},
   "outputs": [
    {
     "data": {
      "text/plain": [
       "Index(['LOCATIONID', 'ZONE', 'BOROUGH'], dtype='object')"
      ]
     },
     "execution_count": 316,
     "metadata": {},
     "output_type": "execute_result"
    }
   ],
   "source": [
    "zones.columns"
   ]
  },
  {
   "cell_type": "code",
   "execution_count": 309,
   "metadata": {},
   "outputs": [],
   "source": [
    "#--Renaming 1 column at a time--\n",
    "zones.rename(columns={'zone': 'ZONE'}, inplace=True)"
   ]
  },
  {
   "cell_type": "code",
   "execution_count": 310,
   "metadata": {},
   "outputs": [
    {
     "data": {
      "text/plain": [
       "Index(['LOCATIONID', 'ZONE', 'BOROUGH'], dtype='object')"
      ]
     },
     "execution_count": 310,
     "metadata": {},
     "output_type": "execute_result"
    }
   ],
   "source": [
    "zones.columns"
   ]
  },
  {
   "cell_type": "code",
   "execution_count": 305,
   "metadata": {},
   "outputs": [],
   "source": [
    "#--Renaming multiple columns at a time: 3 different approaches--\n",
    "\n",
    "# zones.rename(columns={'locationid': 'LOCATIONID', 'borough': 'BOROUGH'}, inplace=True) #--Where inplace=True causes the name change to stay with the dataframe zones\n",
    "# zones.rename({'locationid': 'LOCATIONID', 'borough': 'BOROUGH'},  axis='columns')\n",
    "zones.rename({'locationid': 'LOCATIONID','borough': 'BOROUGH'}, inplace=True, axis= 1)"
   ]
  },
  {
   "cell_type": "code",
   "execution_count": 311,
   "metadata": {},
   "outputs": [
    {
     "data": {
      "text/plain": [
       "Index(['LOCATIONID', 'ZONE', 'BOROUGH'], dtype='object')"
      ]
     },
     "execution_count": 311,
     "metadata": {},
     "output_type": "execute_result"
    }
   ],
   "source": [
    "zones.columns"
   ]
  },
  {
   "cell_type": "code",
   "execution_count": 315,
   "metadata": {},
   "outputs": [],
   "source": [
    "#--Renaming rows and index--\n",
    "\n",
    "\n",
    "\n"
   ]
  },
  {
   "cell_type": "markdown",
   "metadata": {},
   "source": [
    "## groupby and unstack\n",
    "- We use the groupby() function to split data into different groups based on some criteria\n",
    "- ___FIX THIS: unstack() is a pandas reshaping function, that pivots a level of the index labels__"
   ]
  },
  {
   "cell_type": "code",
   "execution_count": 325,
   "metadata": {},
   "outputs": [
    {
     "data": {
      "text/html": [
       "<div>\n",
       "<style scoped>\n",
       "    .dataframe tbody tr th:only-of-type {\n",
       "        vertical-align: middle;\n",
       "    }\n",
       "\n",
       "    .dataframe tbody tr th {\n",
       "        vertical-align: top;\n",
       "    }\n",
       "\n",
       "    .dataframe thead th {\n",
       "        text-align: right;\n",
       "    }\n",
       "</style>\n",
       "<table border=\"1\" class=\"dataframe\">\n",
       "  <thead>\n",
       "    <tr style=\"text-align: right;\">\n",
       "      <th></th>\n",
       "      <th>LOCATIONID</th>\n",
       "      <th>ZONE</th>\n",
       "      <th>BOROUGH</th>\n",
       "    </tr>\n",
       "  </thead>\n",
       "  <tbody>\n",
       "    <tr>\n",
       "      <td>0</td>\n",
       "      <td>1</td>\n",
       "      <td>Newark Airport</td>\n",
       "      <td>EWR</td>\n",
       "    </tr>\n",
       "    <tr>\n",
       "      <td>1</td>\n",
       "      <td>2</td>\n",
       "      <td>Jamaica Bay</td>\n",
       "      <td>Queens</td>\n",
       "    </tr>\n",
       "    <tr>\n",
       "      <td>2</td>\n",
       "      <td>3</td>\n",
       "      <td>Allerton/Pelham Gardens</td>\n",
       "      <td>Bronx</td>\n",
       "    </tr>\n",
       "    <tr>\n",
       "      <td>3</td>\n",
       "      <td>4</td>\n",
       "      <td>Alphabet City</td>\n",
       "      <td>Manhattan</td>\n",
       "    </tr>\n",
       "    <tr>\n",
       "      <td>4</td>\n",
       "      <td>5</td>\n",
       "      <td>Arden Heights</td>\n",
       "      <td>Staten Island</td>\n",
       "    </tr>\n",
       "  </tbody>\n",
       "</table>\n",
       "</div>"
      ],
      "text/plain": [
       "   LOCATIONID                     ZONE        BOROUGH\n",
       "0           1           Newark Airport            EWR\n",
       "1           2              Jamaica Bay         Queens\n",
       "2           3  Allerton/Pelham Gardens          Bronx\n",
       "3           4            Alphabet City      Manhattan\n",
       "4           5            Arden Heights  Staten Island"
      ]
     },
     "execution_count": 325,
     "metadata": {},
     "output_type": "execute_result"
    }
   ],
   "source": [
    "#--find dataset for groupby--"
   ]
  },
  {
   "cell_type": "code",
   "execution_count": 375,
   "metadata": {
    "collapsed": true,
    "jupyter": {
     "outputs_hidden": true
    }
   },
   "outputs": [
    {
     "data": {
      "text/plain": [
       "{'Bronx': Int64Index([  2,  17,  19,  30,  31,  45,  46,  50,  57,  58,  59,  68,  77,\n",
       "              80,  93, 118, 125, 135, 146, 158, 166, 167, 168, 173, 181, 182,\n",
       "             183, 184, 198, 199, 207, 211, 212, 219, 234, 239, 240, 241, 246,\n",
       "             247, 249, 253, 258],\n",
       "            dtype='int64'),\n",
       " 'Brooklyn': Int64Index([ 10,  13,  16,  20,  21,  24,  25,  28,  32,  33,  34,  35,  36,\n",
       "              38,  39,  48,  51,  53,  54,  60,  61,  62,  64,  65,  66,  70,\n",
       "              71,  75,  76,  79,  84,  88,  90,  96, 105, 107, 110, 111, 122,\n",
       "             132, 148, 149, 153, 154, 164, 176, 177, 180, 187, 188, 189, 194,\n",
       "             209, 216, 221, 224, 226, 227, 254, 255, 256],\n",
       "            dtype='int64'),\n",
       " 'EWR': Int64Index([0], dtype='int64'),\n",
       " 'Manhattan': Int64Index([  3,  11,  12,  23,  40,  41,  42,  44,  47,  49,  67,  73,  74,\n",
       "              78,  86,  87,  89,  99, 102, 103, 104, 106, 112, 113, 115, 119,\n",
       "             124, 126, 127, 136, 139, 140, 141, 142, 143, 147, 150, 151, 152,\n",
       "             157, 160, 161, 162, 163, 165, 169, 185, 193, 201, 208, 210, 223,\n",
       "             228, 229, 230, 231, 232, 233, 235, 236, 237, 238, 242, 243, 245,\n",
       "             248, 260, 261, 262],\n",
       "            dtype='int64'),\n",
       " 'Queens': Int64Index([  1,   6,   7,   8,   9,  14,  15,  18,  26,  27,  29,  37,  52,\n",
       "              55,  56,  63,  69,  72,  81,  82,  85,  91,  92,  94,  95,  97,\n",
       "             100, 101, 116, 120, 121, 123, 128, 129, 130, 131, 133, 134, 137,\n",
       "             138, 144, 145, 156, 159, 170, 172, 174, 178, 179, 190, 191, 192,\n",
       "             195, 196, 197, 200, 202, 204, 206, 214, 215, 217, 218, 222, 225,\n",
       "             251, 252, 257, 259],\n",
       "            dtype='int64'),\n",
       " 'Staten Island': Int64Index([  4,   5,  22,  43,  83,  98, 108, 109, 114, 117, 155, 171, 175,\n",
       "             186, 203, 205, 213, 220, 244, 250],\n",
       "            dtype='int64')}"
      ]
     },
     "execution_count": 375,
     "metadata": {},
     "output_type": "execute_result"
    }
   ],
   "source": [
    "by_borough = zones.groupby('BOROUGH')\n",
    "by_borough.groups"
   ]
  },
  {
   "cell_type": "code",
   "execution_count": 328,
   "metadata": {
    "collapsed": true,
    "jupyter": {
     "outputs_hidden": true
    }
   },
   "outputs": [
    {
     "data": {
      "text/html": [
       "<div>\n",
       "<style scoped>\n",
       "    .dataframe tbody tr th:only-of-type {\n",
       "        vertical-align: middle;\n",
       "    }\n",
       "\n",
       "    .dataframe tbody tr th {\n",
       "        vertical-align: top;\n",
       "    }\n",
       "\n",
       "    .dataframe thead th {\n",
       "        text-align: right;\n",
       "    }\n",
       "</style>\n",
       "<table border=\"1\" class=\"dataframe\">\n",
       "  <thead>\n",
       "    <tr style=\"text-align: right;\">\n",
       "      <th></th>\n",
       "      <th>LOCATIONID</th>\n",
       "      <th>ZONE</th>\n",
       "      <th>BOROUGH</th>\n",
       "    </tr>\n",
       "  </thead>\n",
       "  <tbody>\n",
       "    <tr>\n",
       "      <td>1</td>\n",
       "      <td>2</td>\n",
       "      <td>Jamaica Bay</td>\n",
       "      <td>Queens</td>\n",
       "    </tr>\n",
       "    <tr>\n",
       "      <td>6</td>\n",
       "      <td>7</td>\n",
       "      <td>Astoria</td>\n",
       "      <td>Queens</td>\n",
       "    </tr>\n",
       "    <tr>\n",
       "      <td>7</td>\n",
       "      <td>8</td>\n",
       "      <td>Astoria Park</td>\n",
       "      <td>Queens</td>\n",
       "    </tr>\n",
       "    <tr>\n",
       "      <td>8</td>\n",
       "      <td>9</td>\n",
       "      <td>Auburndale</td>\n",
       "      <td>Queens</td>\n",
       "    </tr>\n",
       "    <tr>\n",
       "      <td>9</td>\n",
       "      <td>10</td>\n",
       "      <td>Baisley Park</td>\n",
       "      <td>Queens</td>\n",
       "    </tr>\n",
       "    <tr>\n",
       "      <td>...</td>\n",
       "      <td>...</td>\n",
       "      <td>...</td>\n",
       "      <td>...</td>\n",
       "    </tr>\n",
       "    <tr>\n",
       "      <td>225</td>\n",
       "      <td>226</td>\n",
       "      <td>Sunnyside</td>\n",
       "      <td>Queens</td>\n",
       "    </tr>\n",
       "    <tr>\n",
       "      <td>251</td>\n",
       "      <td>252</td>\n",
       "      <td>Whitestone</td>\n",
       "      <td>Queens</td>\n",
       "    </tr>\n",
       "    <tr>\n",
       "      <td>252</td>\n",
       "      <td>253</td>\n",
       "      <td>Willets Point</td>\n",
       "      <td>Queens</td>\n",
       "    </tr>\n",
       "    <tr>\n",
       "      <td>257</td>\n",
       "      <td>258</td>\n",
       "      <td>Woodhaven</td>\n",
       "      <td>Queens</td>\n",
       "    </tr>\n",
       "    <tr>\n",
       "      <td>259</td>\n",
       "      <td>260</td>\n",
       "      <td>Woodside</td>\n",
       "      <td>Queens</td>\n",
       "    </tr>\n",
       "  </tbody>\n",
       "</table>\n",
       "<p>69 rows × 3 columns</p>\n",
       "</div>"
      ],
      "text/plain": [
       "     LOCATIONID           ZONE BOROUGH\n",
       "1             2    Jamaica Bay  Queens\n",
       "6             7        Astoria  Queens\n",
       "7             8   Astoria Park  Queens\n",
       "8             9     Auburndale  Queens\n",
       "9            10   Baisley Park  Queens\n",
       "..          ...            ...     ...\n",
       "225         226      Sunnyside  Queens\n",
       "251         252     Whitestone  Queens\n",
       "252         253  Willets Point  Queens\n",
       "257         258      Woodhaven  Queens\n",
       "259         260       Woodside  Queens\n",
       "\n",
       "[69 rows x 3 columns]"
      ]
     },
     "execution_count": 328,
     "metadata": {},
     "output_type": "execute_result"
    }
   ],
   "source": [
    "#--groupby() on boroughs--\n",
    "zones.loc[zones.BOROUGH == 'Queens']"
   ]
  },
  {
   "cell_type": "markdown",
   "metadata": {},
   "source": [
    "## Resample and timedelta"
   ]
  },
  {
   "cell_type": "code",
   "execution_count": 321,
   "metadata": {},
   "outputs": [],
   "source": [
    "#--timedelta: https://docs.python.org/3/library/datetime.html\n",
    "from datetime import timedelta"
   ]
  },
  {
   "cell_type": "code",
   "execution_count": 319,
   "metadata": {},
   "outputs": [],
   "source": [
    "hours = pd.read_csv('data/hourly_taxi_counts_2018.tsv', sep='\\t')"
   ]
  },
  {
   "cell_type": "code",
   "execution_count": 320,
   "metadata": {},
   "outputs": [
    {
     "data": {
      "text/html": [
       "<div>\n",
       "<style scoped>\n",
       "    .dataframe tbody tr th:only-of-type {\n",
       "        vertical-align: middle;\n",
       "    }\n",
       "\n",
       "    .dataframe tbody tr th {\n",
       "        vertical-align: top;\n",
       "    }\n",
       "\n",
       "    .dataframe thead th {\n",
       "        text-align: right;\n",
       "    }\n",
       "</style>\n",
       "<table border=\"1\" class=\"dataframe\">\n",
       "  <thead>\n",
       "    <tr style=\"text-align: right;\">\n",
       "      <th></th>\n",
       "      <th>date</th>\n",
       "      <th>n_trips</th>\n",
       "    </tr>\n",
       "  </thead>\n",
       "  <tbody>\n",
       "    <tr>\n",
       "      <td>0</td>\n",
       "      <td>2018-03-01 00:00:00</td>\n",
       "      <td>7568</td>\n",
       "    </tr>\n",
       "    <tr>\n",
       "      <td>1</td>\n",
       "      <td>2018-03-01 01:00:00</td>\n",
       "      <td>4330</td>\n",
       "    </tr>\n",
       "    <tr>\n",
       "      <td>2</td>\n",
       "      <td>2018-03-01 02:00:00</td>\n",
       "      <td>2753</td>\n",
       "    </tr>\n",
       "    <tr>\n",
       "      <td>3</td>\n",
       "      <td>2018-03-01 03:00:00</td>\n",
       "      <td>1844</td>\n",
       "    </tr>\n",
       "    <tr>\n",
       "      <td>4</td>\n",
       "      <td>2018-03-01 04:00:00</td>\n",
       "      <td>1921</td>\n",
       "    </tr>\n",
       "  </tbody>\n",
       "</table>\n",
       "</div>"
      ],
      "text/plain": [
       "                  date  n_trips\n",
       "0  2018-03-01 00:00:00     7568\n",
       "1  2018-03-01 01:00:00     4330\n",
       "2  2018-03-01 02:00:00     2753\n",
       "3  2018-03-01 03:00:00     1844\n",
       "4  2018-03-01 04:00:00     1921"
      ]
     },
     "execution_count": 320,
     "metadata": {},
     "output_type": "execute_result"
    }
   ],
   "source": [
    "hours.head()"
   ]
  },
  {
   "cell_type": "code",
   "execution_count": null,
   "metadata": {},
   "outputs": [],
   "source": []
  },
  {
   "cell_type": "code",
   "execution_count": null,
   "metadata": {},
   "outputs": [],
   "source": []
  },
  {
   "cell_type": "markdown",
   "metadata": {},
   "source": [
    "## Other useful functions\n",
    "- .unique()\n",
    "- .sort_values()"
   ]
  },
  {
   "cell_type": "code",
   "execution_count": 353,
   "metadata": {},
   "outputs": [
    {
     "data": {
      "text/plain": [
       "array(['EWR', 'Queens', 'Bronx', 'Manhattan', 'Staten Island', 'Brooklyn'],\n",
       "      dtype=object)"
      ]
     },
     "execution_count": 353,
     "metadata": {},
     "output_type": "execute_result"
    }
   ],
   "source": [
    "#--Find unique values in a certain column--\n",
    "zones.BOROUGH.unique()"
   ]
  },
  {
   "cell_type": "code",
   "execution_count": 346,
   "metadata": {},
   "outputs": [
    {
     "data": {
      "text/plain": [
       "260"
      ]
     },
     "execution_count": 346,
     "metadata": {},
     "output_type": "execute_result"
    }
   ],
   "source": [
    "len(zones.ZONE.unique())"
   ]
  },
  {
   "cell_type": "code",
   "execution_count": 545,
   "metadata": {},
   "outputs": [],
   "source": [
    "# .drop_duplicates()"
   ]
  },
  {
   "cell_type": "code",
   "execution_count": 355,
   "metadata": {},
   "outputs": [
    {
     "data": {
      "text/html": [
       "<div>\n",
       "<style scoped>\n",
       "    .dataframe tbody tr th:only-of-type {\n",
       "        vertical-align: middle;\n",
       "    }\n",
       "\n",
       "    .dataframe tbody tr th {\n",
       "        vertical-align: top;\n",
       "    }\n",
       "\n",
       "    .dataframe thead th {\n",
       "        text-align: right;\n",
       "    }\n",
       "</style>\n",
       "<table border=\"1\" class=\"dataframe\">\n",
       "  <thead>\n",
       "    <tr style=\"text-align: right;\">\n",
       "      <th></th>\n",
       "      <th>VendorID</th>\n",
       "      <th>tpep_pickup_datetime</th>\n",
       "      <th>tpep_dropoff_datetime</th>\n",
       "      <th>passenger_count</th>\n",
       "      <th>trip_distance</th>\n",
       "      <th>RatecodeID</th>\n",
       "      <th>store_and_fwd_flag</th>\n",
       "      <th>PULocationID</th>\n",
       "      <th>DOLocationID</th>\n",
       "      <th>payment_type</th>\n",
       "      <th>fare_amount</th>\n",
       "      <th>extra</th>\n",
       "      <th>mta_tax</th>\n",
       "      <th>tip_amount</th>\n",
       "      <th>tolls_amount</th>\n",
       "      <th>improvement_surcharge</th>\n",
       "      <th>total_amount</th>\n",
       "      <th>tip_percent</th>\n",
       "    </tr>\n",
       "  </thead>\n",
       "  <tbody>\n",
       "    <tr>\n",
       "      <td>17881</td>\n",
       "      <td>2</td>\n",
       "      <td>2018-01-01 01:04:29</td>\n",
       "      <td>2018-01-01 01:04:32</td>\n",
       "      <td>2</td>\n",
       "      <td>0.00</td>\n",
       "      <td>5</td>\n",
       "      <td>N</td>\n",
       "      <td>68</td>\n",
       "      <td>68</td>\n",
       "      <td>1</td>\n",
       "      <td>250.0</td>\n",
       "      <td>0.0</td>\n",
       "      <td>0.5</td>\n",
       "      <td>0.00</td>\n",
       "      <td>0.00</td>\n",
       "      <td>0.3</td>\n",
       "      <td>250.80</td>\n",
       "      <td>0.0000</td>\n",
       "    </tr>\n",
       "    <tr>\n",
       "      <td>12056</td>\n",
       "      <td>2</td>\n",
       "      <td>2018-01-01 00:46:06</td>\n",
       "      <td>2018-01-01 00:48:11</td>\n",
       "      <td>1</td>\n",
       "      <td>0.00</td>\n",
       "      <td>5</td>\n",
       "      <td>N</td>\n",
       "      <td>265</td>\n",
       "      <td>265</td>\n",
       "      <td>1</td>\n",
       "      <td>215.0</td>\n",
       "      <td>0.0</td>\n",
       "      <td>0.5</td>\n",
       "      <td>0.00</td>\n",
       "      <td>25.00</td>\n",
       "      <td>0.3</td>\n",
       "      <td>240.80</td>\n",
       "      <td>0.0000</td>\n",
       "    </tr>\n",
       "    <tr>\n",
       "      <td>4021</td>\n",
       "      <td>2</td>\n",
       "      <td>2018-01-01 00:20:02</td>\n",
       "      <td>2018-01-01 01:21:02</td>\n",
       "      <td>1</td>\n",
       "      <td>4.56</td>\n",
       "      <td>5</td>\n",
       "      <td>N</td>\n",
       "      <td>158</td>\n",
       "      <td>265</td>\n",
       "      <td>2</td>\n",
       "      <td>175.0</td>\n",
       "      <td>0.0</td>\n",
       "      <td>0.5</td>\n",
       "      <td>0.00</td>\n",
       "      <td>10.50</td>\n",
       "      <td>0.3</td>\n",
       "      <td>186.30</td>\n",
       "      <td>0.0000</td>\n",
       "    </tr>\n",
       "    <tr>\n",
       "      <td>14585</td>\n",
       "      <td>2</td>\n",
       "      <td>2018-01-01 00:54:08</td>\n",
       "      <td>2018-01-01 01:34:38</td>\n",
       "      <td>1</td>\n",
       "      <td>36.01</td>\n",
       "      <td>4</td>\n",
       "      <td>N</td>\n",
       "      <td>132</td>\n",
       "      <td>265</td>\n",
       "      <td>1</td>\n",
       "      <td>165.0</td>\n",
       "      <td>0.5</td>\n",
       "      <td>0.5</td>\n",
       "      <td>17.00</td>\n",
       "      <td>0.00</td>\n",
       "      <td>0.3</td>\n",
       "      <td>183.30</td>\n",
       "      <td>0.0927</td>\n",
       "    </tr>\n",
       "    <tr>\n",
       "      <td>19413</td>\n",
       "      <td>1</td>\n",
       "      <td>2018-01-01 01:09:04</td>\n",
       "      <td>2018-01-01 01:47:43</td>\n",
       "      <td>2</td>\n",
       "      <td>28.00</td>\n",
       "      <td>5</td>\n",
       "      <td>N</td>\n",
       "      <td>170</td>\n",
       "      <td>265</td>\n",
       "      <td>1</td>\n",
       "      <td>136.0</td>\n",
       "      <td>0.0</td>\n",
       "      <td>0.0</td>\n",
       "      <td>21.23</td>\n",
       "      <td>5.76</td>\n",
       "      <td>0.3</td>\n",
       "      <td>163.29</td>\n",
       "      <td>0.1300</td>\n",
       "    </tr>\n",
       "  </tbody>\n",
       "</table>\n",
       "</div>"
      ],
      "text/plain": [
       "       VendorID tpep_pickup_datetime tpep_dropoff_datetime  passenger_count  \\\n",
       "17881         2  2018-01-01 01:04:29   2018-01-01 01:04:32                2   \n",
       "12056         2  2018-01-01 00:46:06   2018-01-01 00:48:11                1   \n",
       "4021          2  2018-01-01 00:20:02   2018-01-01 01:21:02                1   \n",
       "14585         2  2018-01-01 00:54:08   2018-01-01 01:34:38                1   \n",
       "19413         1  2018-01-01 01:09:04   2018-01-01 01:47:43                2   \n",
       "\n",
       "       trip_distance  RatecodeID store_and_fwd_flag  PULocationID  \\\n",
       "17881           0.00           5                  N            68   \n",
       "12056           0.00           5                  N           265   \n",
       "4021            4.56           5                  N           158   \n",
       "14585          36.01           4                  N           132   \n",
       "19413          28.00           5                  N           170   \n",
       "\n",
       "       DOLocationID  payment_type  fare_amount  extra  mta_tax  tip_amount  \\\n",
       "17881            68             1        250.0    0.0      0.5        0.00   \n",
       "12056           265             1        215.0    0.0      0.5        0.00   \n",
       "4021            265             2        175.0    0.0      0.5        0.00   \n",
       "14585           265             1        165.0    0.5      0.5       17.00   \n",
       "19413           265             1        136.0    0.0      0.0       21.23   \n",
       "\n",
       "       tolls_amount  improvement_surcharge  total_amount  tip_percent  \n",
       "17881          0.00                    0.3        250.80       0.0000  \n",
       "12056         25.00                    0.3        240.80       0.0000  \n",
       "4021          10.50                    0.3        186.30       0.0000  \n",
       "14585          0.00                    0.3        183.30       0.0927  \n",
       "19413          5.76                    0.3        163.29       0.1300  "
      ]
     },
     "execution_count": 355,
     "metadata": {},
     "output_type": "execute_result"
    }
   ],
   "source": [
    "#--Sort your dataframe by total amount pad for taxi trip, from greatest to least--\n",
    "sort_bytotal = trips.sort_values('total_amount', ascending=False)\n",
    "sort_bytotal.head()"
   ]
  }
 ],
 "metadata": {
  "kernelspec": {
   "display_name": "Python 3",
   "language": "python",
   "name": "python3"
  },
  "language_info": {
   "codemirror_mode": {
    "name": "ipython",
    "version": 3
   },
   "file_extension": ".py",
   "mimetype": "text/x-python",
   "name": "python",
   "nbconvert_exporter": "python",
   "pygments_lexer": "ipython3",
   "version": "3.7.4"
  }
 },
 "nbformat": 4,
 "nbformat_minor": 4
}
