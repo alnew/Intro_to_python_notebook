{
 "cells": [
  {
   "cell_type": "markdown",
   "metadata": {},
   "source": [
    "# Data Manipulation in Python\n",
    "## INFORMS 2020 Python Workshop\n",
    "### Amy Newman"
   ]
  },
  {
   "cell_type": "markdown",
   "metadata": {},
   "source": [
    "## Import Packages"
   ]
  },
  {
   "cell_type": "code",
   "execution_count": 235,
   "metadata": {},
   "outputs": [],
   "source": [
    "import pandas as pd\n",
    "import numpy as np\n",
    "import json"
   ]
  },
  {
   "cell_type": "markdown",
   "metadata": {},
   "source": [
    "## Saving / Loading JSON \n",
    "- JSON (Javascript Object Notation)\n",
    "    - it's a standardized format to pass data around; it's easy for machines and humans to use\n",
    "    - it's a form of text data written in Javascript notation and can be sent to and from a server\n",
    "    - Twitter and Facebook are examples where you would retrieve data in JSON format\n",
    "- JSON Viewer: can give a better picture of the structure of your data. Copy and paste the JSON into it. \n",
    "    - https://codebeautify.org/jsonviewer or https://jsonformatter.org/json-pretty-print\n",
    "- json.dumps() takes an json object and produces a string. You can save this to a file. "
   ]
  },
  {
   "cell_type": "code",
   "execution_count": 444,
   "metadata": {},
   "outputs": [],
   "source": [
    "#--JSON: kind of looks like a dictionary, huh?\n",
    "json1 = { \"firstName\": \"Alan\", \"lastName\": \"Doe\", \"hobbies\": [\"running\", \"climbing\", \"dancing\"], \n",
    "        \"age\": 35, \"children\": [ { \"firstName\": \"Sam\", \"age\": 6 }, { \"firstName\": \"Jamie\", \"age\": 8 } ] }\n",
    "\n",
    "\n",
    "\n",
    "#--If you put json1 in the JSON Code Beautifier, it will give a structure that looks like json2--\n",
    "json2 = {\n",
    "    \"firstName\": \"Alan\",\n",
    "    \"lastName\": \"Doe\",\n",
    "    \"hobbies\": [\"running\", \"climbing\", \"dancing\"],\n",
    "    \"age\": 35,\n",
    "    \"children\": [\n",
    "        {\n",
    "            \"firstName\": \"Sam\",\n",
    "            \"age\": 6\n",
    "        },\n",
    "        {\n",
    "            \"firstName\": \"Jamie\",\n",
    "            \"age\": 8\n",
    "        }\n",
    "    ]\n",
    "}"
   ]
  },
  {
   "cell_type": "code",
   "execution_count": 447,
   "metadata": {},
   "outputs": [
    {
     "data": {
      "text/plain": [
       "'Alan'"
      ]
     },
     "execution_count": 447,
     "metadata": {},
     "output_type": "execute_result"
    }
   ],
   "source": [
    "#--Accessing data within the json file is a little like accessing data in a Python dictionary--\n",
    "json1['firstName']"
   ]
  },
  {
   "cell_type": "code",
   "execution_count": 448,
   "metadata": {},
   "outputs": [
    {
     "data": {
      "text/plain": [
       "'Sam'"
      ]
     },
     "execution_count": 448,
     "metadata": {},
     "output_type": "execute_result"
    }
   ],
   "source": [
    "#--Notice that to get to 'Sam', we have to go through a dictionary, a list, and then a dictionary--\n",
    "json1['children'][0]['firstName']"
   ]
  },
  {
   "cell_type": "code",
   "execution_count": 446,
   "metadata": {},
   "outputs": [
    {
     "name": "stdout",
     "output_type": "stream",
     "text": [
      "<class 'str'>\n",
      "{\"team\": \"Brazil\", \"position\": 1, \"host\": true, \"lastGame\": \"Win\"}\n"
     ]
    }
   ],
   "source": [
    "#--Using json.dumps() to convert a Python object and create a string--\n",
    "pdict = {'team': 'Brazil', 'position': 1, 'host': True, 'lastGame': 'Win'}\n",
    "dictToJson = json.dumps(pdict)\n",
    "print(type(dictToJson))\n",
    "print(dictToJson)"
   ]
  },
  {
   "cell_type": "markdown",
   "metadata": {},
   "source": [
    "#### Saving JSON to a File"
   ]
  },
  {
   "cell_type": "code",
   "execution_count": 922,
   "metadata": {},
   "outputs": [],
   "source": [
    "#--Save your json data from above to a file using json.dumps()--\n",
    "with open(\"data/pdict.json\", \"w\") as write_file:\n",
    "    json.dump(pdict, write_file)"
   ]
  },
  {
   "cell_type": "markdown",
   "metadata": {},
   "source": [
    "#### Loading JSON from a File\n",
    "- json.loads() takes a file-like object, reads the data from that object, and uses that string to create a json object"
   ]
  },
  {
   "cell_type": "code",
   "execution_count": 911,
   "metadata": {},
   "outputs": [],
   "source": [
    "filename = 'data/one_tweets_nyc_taxi.json'"
   ]
  },
  {
   "cell_type": "code",
   "execution_count": 912,
   "metadata": {},
   "outputs": [],
   "source": [
    "with open(filename, 'r') as f:\n",
    "    read_tweet = f.read()"
   ]
  },
  {
   "cell_type": "code",
   "execution_count": 913,
   "metadata": {},
   "outputs": [
    {
     "data": {
      "text/plain": [
       "dict"
      ]
     },
     "execution_count": 913,
     "metadata": {},
     "output_type": "execute_result"
    }
   ],
   "source": [
    "tweet_data = json.loads(read_tweet) #--the loads() will convert your data from a string to dict\n",
    "type(tweet_data)"
   ]
  },
  {
   "cell_type": "code",
   "execution_count": 923,
   "metadata": {},
   "outputs": [],
   "source": [
    "tweet_data"
   ]
  },
  {
   "cell_type": "code",
   "execution_count": 901,
   "metadata": {},
   "outputs": [],
   "source": [
    "#--Puts your Twitter data into a dataframe: works with multiple tweets--\n",
    "filename = 'data/three_tweets_nyc_taxi.json'\n",
    "tweet_df = pd.read_json(filename, orient = 'records', lines = True)"
   ]
  },
  {
   "cell_type": "code",
   "execution_count": 924,
   "metadata": {},
   "outputs": [],
   "source": [
    "tweet_df"
   ]
  },
  {
   "cell_type": "markdown",
   "metadata": {},
   "source": [
    "### *Exercises: Loading/Saving JSON"
   ]
  },
  {
   "cell_type": "code",
   "execution_count": 915,
   "metadata": {},
   "outputs": [
    {
     "data": {
      "text/plain": [
       "'@NeilECollins @nyc311 Thank you for reading, Mr. Collins.  Having a TLC driver license is a privilege.  Taxi passen… https://t.co/78C3glo1yl'"
      ]
     },
     "execution_count": 915,
     "metadata": {},
     "output_type": "execute_result"
    }
   ],
   "source": [
    "#--1. Extract the 'text' from tweet_data--\n",
    "tweet_data['text']"
   ]
  },
  {
   "cell_type": "code",
   "execution_count": 918,
   "metadata": {},
   "outputs": [
    {
     "data": {
      "text/plain": [
       "'NeilECollins'"
      ]
     },
     "execution_count": 918,
     "metadata": {},
     "output_type": "execute_result"
    }
   ],
   "source": [
    "#--2. Extract the 0th 'screen_name' from tweet_data--\n",
    "tweet_data['entities']['user_mentions'][0]['screen_name']"
   ]
  },
  {
   "cell_type": "code",
   "execution_count": 921,
   "metadata": {},
   "outputs": [],
   "source": [
    "#--3. Create a file called tweet_data.json and save tweet_data to it--\n",
    "with open(\"data/tweet_data.json\", \"w\") as write_file:\n",
    "    json.dump(tweet_data, write_file)"
   ]
  },
  {
   "cell_type": "markdown",
   "metadata": {},
   "source": [
    "## Loading / Saving pandas"
   ]
  },
  {
   "cell_type": "code",
   "execution_count": 456,
   "metadata": {},
   "outputs": [],
   "source": [
    "#--Loading a .csv file to pandas--\n",
    "zones = pd.read_csv('data/taxi_zones_simple.csv')\n",
    "\n",
    "#--Loading a .tsv.gz to pandas--\n",
    "trips = pd.read_csv('data/clean_taxi_sample.tsv.gz', sep='\\t')"
   ]
  },
  {
   "cell_type": "code",
   "execution_count": 466,
   "metadata": {},
   "outputs": [],
   "source": [
    "#--taking a look at the first 5 rows to see if it loaded ok--\n",
    "zones.head()"
   ]
  },
  {
   "cell_type": "code",
   "execution_count": 467,
   "metadata": {},
   "outputs": [],
   "source": [
    "zones.shape"
   ]
  },
  {
   "cell_type": "code",
   "execution_count": null,
   "metadata": {},
   "outputs": [],
   "source": [
    "# trips.head()"
   ]
  },
  {
   "cell_type": "code",
   "execution_count": null,
   "metadata": {},
   "outputs": [],
   "source": [
    "# trips.shape()"
   ]
  },
  {
   "cell_type": "code",
   "execution_count": 462,
   "metadata": {},
   "outputs": [],
   "source": [
    "#--Saving the zones dataframe to a .csv file--\n",
    "zones.to_csv(\"data/zones_output.csv\")\n",
    "# zones.to_csv(\"data/zones_output.csv\", index=False) #--to get rid of the index use this\n",
    "\n",
    "#--Saving the zones dataframe to a .xls file--\n",
    "zones.to_excel(\"data/zones_output.xls\")"
   ]
  },
  {
   "cell_type": "markdown",
   "metadata": {},
   "source": [
    "### *Exercise: Loading/Saving pandas"
   ]
  },
  {
   "cell_type": "code",
   "execution_count": 531,
   "metadata": {},
   "outputs": [],
   "source": [
    "#--1. Load 'data/daily_taxi_counts_2018.tsv' using pandas. Assign the loaded data to the variable counts. \n",
    "counts = pd.read_csv('data/daily_taxi_counts_2018.tsv', sep='\\t')"
   ]
  },
  {
   "cell_type": "code",
   "execution_count": 357,
   "metadata": {},
   "outputs": [],
   "source": [
    "#--2. View your counts data and take a look at the shape--\n",
    "# print(counts.shape())\n",
    "# counts.head()"
   ]
  },
  {
   "cell_type": "code",
   "execution_count": null,
   "metadata": {},
   "outputs": [],
   "source": [
    "#--3. Save the dataframe to a file named 'counts_output.csv'\n",
    "# counts.to_csv(\"data/counts_output.csv\")"
   ]
  },
  {
   "cell_type": "markdown",
   "metadata": {},
   "source": [
    "## Viewing / Selecting pandas\n",
    "- .head()\n",
    "    - allows you to view the first 5 rows in your data, including column names\n",
    "- .sample(5)\n",
    "    - this will give a random sample of 5 rows from the data (you can change from 5 to another number for more or less samples)\n",
    "- .shape\n",
    "    - allows you to see the number of rows and columns within your dataframe\n",
    "- .loc[ ]\n",
    "    - gets rows (or columns) with specific labels from the index\n",
    "- .iloc[ ]\n",
    "    - gets rows (or columns) at specific positions in the index (so it only takes integers)"
   ]
  },
  {
   "cell_type": "code",
   "execution_count": 468,
   "metadata": {},
   "outputs": [],
   "source": [
    "#--Viewing the first 5 rows of your data--\n",
    "trips.head()\n",
    "\n",
    "#--Viewing the first 7 rows of your data: you can change from 7 to whatever number you need--\n",
    "# trips.head(7) "
   ]
  },
  {
   "cell_type": "code",
   "execution_count": null,
   "metadata": {},
   "outputs": [],
   "source": [
    "#--Gets a sample of rows from your dataframe. You can change the number to whatever you need here--\n",
    "trips.sample(5)"
   ]
  },
  {
   "cell_type": "code",
   "execution_count": 476,
   "metadata": {},
   "outputs": [],
   "source": [
    "#--Getting some basic information about the size and shape of the DataFrame:\n",
    "print(\"The number of rows of the dataset is: \", len(trips))\n",
    "print(\"The number of columns of the dataset is: \", len(trips.columns))\n",
    "print(\"The shape of the dataset is: \", trips.shape)"
   ]
  },
  {
   "cell_type": "code",
   "execution_count": 475,
   "metadata": {},
   "outputs": [],
   "source": [
    "#--Seeing all of your dataframe columns in list format--\n",
    "trips.columns"
   ]
  },
  {
   "cell_type": "code",
   "execution_count": 469,
   "metadata": {},
   "outputs": [],
   "source": [
    "trips['passenger_count'] #--extracting one column in Series format\n",
    "\n",
    "#--This will give the same result as trips['passenger_count'] but uses dot notation:\n",
    "# trips.passenger_count"
   ]
  },
  {
   "cell_type": "code",
   "execution_count": 373,
   "metadata": {},
   "outputs": [],
   "source": [
    "#--Column Extraction: double square brackets b/c the column names are the list\n",
    "dist_cost = trips[['PULocationID','trip_distance', 'total_amount']] "
   ]
  },
  {
   "cell_type": "code",
   "execution_count": 470,
   "metadata": {},
   "outputs": [],
   "source": [
    "#--Choosing rows based on a condition in a column--\n",
    "id2 = trips.loc[trips['VendorID'] == 2]\n",
    "id2.head()"
   ]
  },
  {
   "cell_type": "code",
   "execution_count": 474,
   "metadata": {},
   "outputs": [],
   "source": [
    "#--Choosing rows by Combining multiple conditions--\n",
    "trips.loc[(trips['trip_distance'] >= 5) & (trips['trip_distance'] <= 10)] #--want all trips beteween 5 and 10 miles"
   ]
  },
  {
   "cell_type": "code",
   "execution_count": 472,
   "metadata": {},
   "outputs": [],
   "source": [
    "#--Choosing rows by excluding a condition--\n",
    "trips.loc[trips['passenger_count'] != 1]"
   ]
  },
  {
   "cell_type": "code",
   "execution_count": 473,
   "metadata": {},
   "outputs": [],
   "source": [
    "#--Choosing data by column--\n",
    "trips.iloc[:,:4] #--This chooses all of the rows in the dataframe from column 0 to 3"
   ]
  },
  {
   "cell_type": "code",
   "execution_count": null,
   "metadata": {},
   "outputs": [],
   "source": [
    "#--Selecting certain columns from the entire dataframe by name, making a new dataframe--\n",
    "trip_sub = trips[['tpep_pickup_datetime', 'tpep_dropoff_datetime', 'total_amount']]"
   ]
  },
  {
   "cell_type": "markdown",
   "metadata": {},
   "source": [
    "### *Exercise: Viewing/Selecting pandas "
   ]
  },
  {
   "cell_type": "code",
   "execution_count": null,
   "metadata": {},
   "outputs": [],
   "source": [
    "#--1. View the data in the zones dataframe--"
   ]
  },
  {
   "cell_type": "code",
   "execution_count": 486,
   "metadata": {},
   "outputs": [],
   "source": [
    "#--2. How many columns does the zones dataframe have?--\n",
    "# len(zones.columns)"
   ]
  },
  {
   "cell_type": "code",
   "execution_count": 485,
   "metadata": {},
   "outputs": [],
   "source": [
    "#--3. Create a subset of the zones dataframe called queens, where all of the data only comes from the borough queens--\n",
    "# queens = zones.loc[zones['borough']=='Queens']\n",
    "# queens"
   ]
  },
  {
   "cell_type": "code",
   "execution_count": 484,
   "metadata": {},
   "outputs": [],
   "source": [
    "#--4. Find all of the data in the trips dataframe where the fare_amount is between 100 and 200--\n",
    "# trips.loc[(trips['fare_amount'] >= 100) & (trips['fare_amount'] <= 200)]"
   ]
  },
  {
   "cell_type": "markdown",
   "metadata": {},
   "source": [
    "## Checking / Changing Column Types\n",
    "- Viewing column data\n",
    "- Column data can be converted to different types including, but not limited to: str, float, and int\n",
    "- Converting date data with dates and times to more usable formats"
   ]
  },
  {
   "cell_type": "code",
   "execution_count": 512,
   "metadata": {},
   "outputs": [],
   "source": [
    "#--Converting column to int or float--\n",
    "trips.head()"
   ]
  },
  {
   "cell_type": "code",
   "execution_count": 502,
   "metadata": {},
   "outputs": [],
   "source": [
    "#--Check all the data types of the trips dataframe--\n",
    "trips.dtypes"
   ]
  },
  {
   "cell_type": "code",
   "execution_count": 541,
   "metadata": {},
   "outputs": [],
   "source": [
    "#--all the unique values in the payment_type column of the trips dataframe--\n",
    "trips.payment_type.unique()"
   ]
  },
  {
   "cell_type": "code",
   "execution_count": 496,
   "metadata": {},
   "outputs": [],
   "source": [
    "#--Converting all of the values in the payment_type column from int to float--\n",
    "trips.payment_type = trips.payment_type.astype(float) #--This is one way to do it, there are options as well\n",
    "trips.dtypes"
   ]
  },
  {
   "cell_type": "code",
   "execution_count": 530,
   "metadata": {},
   "outputs": [],
   "source": [
    "#--Convert date column to datetime to make data more accessible--\n",
    "counts['date'] = pd.to_datetime(counts.date)"
   ]
  },
  {
   "cell_type": "code",
   "execution_count": 534,
   "metadata": {},
   "outputs": [],
   "source": [
    "#--Create new columns from datetime data, one with month data and one with day of week data--\n",
    "counts['month'] = pd.DatetimeIndex(counts['date']).month\n",
    "counts['day_of_week'] = pd.DatetimeIndex(counts['date']).dayofweek #--Sunday thru Saturday in numerical form\n",
    "counts.head()"
   ]
  },
  {
   "cell_type": "markdown",
   "metadata": {},
   "source": [
    "### *Exercise: Checking/Changing Column Types"
   ]
  },
  {
   "cell_type": "code",
   "execution_count": null,
   "metadata": {},
   "outputs": [],
   "source": [
    "#--1. Convert the payment_type column from trips from float back to int--\n",
    "# trips.payment_type = trips.payment_type.astype(int)\n",
    "# trips.dtypes"
   ]
  },
  {
   "cell_type": "code",
   "execution_count": 554,
   "metadata": {},
   "outputs": [
    {
     "data": {
      "text/html": [
       "<div>\n",
       "<style scoped>\n",
       "    .dataframe tbody tr th:only-of-type {\n",
       "        vertical-align: middle;\n",
       "    }\n",
       "\n",
       "    .dataframe tbody tr th {\n",
       "        vertical-align: top;\n",
       "    }\n",
       "\n",
       "    .dataframe thead th {\n",
       "        text-align: right;\n",
       "    }\n",
       "</style>\n",
       "<table border=\"1\" class=\"dataframe\">\n",
       "  <thead>\n",
       "    <tr style=\"text-align: right;\">\n",
       "      <th></th>\n",
       "      <th>date</th>\n",
       "      <th>n_trips</th>\n",
       "      <th>month</th>\n",
       "      <th>day_of_week</th>\n",
       "      <th>day</th>\n",
       "    </tr>\n",
       "  </thead>\n",
       "  <tbody>\n",
       "    <tr>\n",
       "      <td>0</td>\n",
       "      <td>2018-03-01</td>\n",
       "      <td>332802</td>\n",
       "      <td>3</td>\n",
       "      <td>3</td>\n",
       "      <td>1</td>\n",
       "    </tr>\n",
       "    <tr>\n",
       "      <td>1</td>\n",
       "      <td>2018-03-02</td>\n",
       "      <td>326944</td>\n",
       "      <td>3</td>\n",
       "      <td>4</td>\n",
       "      <td>2</td>\n",
       "    </tr>\n",
       "    <tr>\n",
       "      <td>2</td>\n",
       "      <td>2018-03-03</td>\n",
       "      <td>316823</td>\n",
       "      <td>3</td>\n",
       "      <td>5</td>\n",
       "      <td>3</td>\n",
       "    </tr>\n",
       "    <tr>\n",
       "      <td>3</td>\n",
       "      <td>2018-03-04</td>\n",
       "      <td>286326</td>\n",
       "      <td>3</td>\n",
       "      <td>6</td>\n",
       "      <td>4</td>\n",
       "    </tr>\n",
       "    <tr>\n",
       "      <td>4</td>\n",
       "      <td>2018-03-05</td>\n",
       "      <td>290631</td>\n",
       "      <td>3</td>\n",
       "      <td>0</td>\n",
       "      <td>5</td>\n",
       "    </tr>\n",
       "  </tbody>\n",
       "</table>\n",
       "</div>"
      ],
      "text/plain": [
       "         date  n_trips  month  day_of_week  day\n",
       "0  2018-03-01   332802      3            3    1\n",
       "1  2018-03-02   326944      3            4    2\n",
       "2  2018-03-03   316823      3            5    3\n",
       "3  2018-03-04   286326      3            6    4\n",
       "4  2018-03-05   290631      3            0    5"
      ]
     },
     "execution_count": 554,
     "metadata": {},
     "output_type": "execute_result"
    }
   ],
   "source": [
    "#--2. Create a column called 'day' in trips, where its values are the day number of the month--\n",
    "# counts['day'] = pd.DatetimeIndex(counts['date']).day\n",
    "counts.head()"
   ]
  },
  {
   "cell_type": "markdown",
   "metadata": {},
   "source": [
    "## Summarizing\n",
    "- descriptive statistics\n",
    "    - df.describe()\n",
    "    - df['column_name'].max()\n",
    "    - df['column_name'].sum()\n",
    "    - and more\n",
    "- Any interesting findings in the trips dataframe?"
   ]
  },
  {
   "cell_type": "code",
   "execution_count": 678,
   "metadata": {},
   "outputs": [],
   "source": [
    "#-- df.describe() returns statistical details like percentile, mean, std etc. of a data frame or a series of numeric values--\n",
    "trips.describe()"
   ]
  },
  {
   "cell_type": "markdown",
   "metadata": {},
   "source": [
    "### *Exercise: Summarizing"
   ]
  },
  {
   "cell_type": "code",
   "execution_count": 676,
   "metadata": {},
   "outputs": [],
   "source": [
    "#--1. Find the maximum number of trips in the counts dataframe?--\n",
    "counts.describe()"
   ]
  },
  {
   "cell_type": "code",
   "execution_count": 677,
   "metadata": {},
   "outputs": [],
   "source": [
    "#--2. What's the total number of trips in March in the counts dataframe?--\n",
    "counts.loc[counts['month'] == 3].sum()"
   ]
  },
  {
   "cell_type": "markdown",
   "metadata": {},
   "source": [
    "## Replacing\n",
    "- replacing string values\n",
    "- replacing numerical values\n",
    "- replacing nan values (missing data)"
   ]
  },
  {
   "cell_type": "markdown",
   "metadata": {},
   "source": [
    "#### Replacing string or numerical values"
   ]
  },
  {
   "cell_type": "code",
   "execution_count": null,
   "metadata": {},
   "outputs": [],
   "source": [
    "zones.head()"
   ]
  },
  {
   "cell_type": "code",
   "execution_count": null,
   "metadata": {},
   "outputs": [],
   "source": [
    "# Replacing string values: this will replace instanceas of \"Newark Airport\" with \"Newark Liberty International Airport\"\n",
    "zones = zones.replace(to_replace =[\"Newark Airport\"],  \n",
    "                            value = \"Newark Liberty International Airport\") \n",
    "zones.head()"
   ]
  },
  {
   "cell_type": "markdown",
   "metadata": {},
   "source": [
    "#### Replacing NaN values"
   ]
  },
  {
   "cell_type": "code",
   "execution_count": 627,
   "metadata": {},
   "outputs": [],
   "source": [
    "#--Replacing NaN values--\n",
    "zones_na = pd.read_csv('data/na_taxi_zones_simple.csv')"
   ]
  },
  {
   "cell_type": "code",
   "execution_count": 672,
   "metadata": {},
   "outputs": [],
   "source": [
    "#--notice the missing string value in locationid 4--\n",
    "zones_na.head()"
   ]
  },
  {
   "cell_type": "code",
   "execution_count": 673,
   "metadata": {},
   "outputs": [],
   "source": [
    "zones_na.isna().sum() #--check for the number NaN values"
   ]
  },
  {
   "cell_type": "code",
   "execution_count": 674,
   "metadata": {},
   "outputs": [],
   "source": [
    "zones_na.dtypes #--check the datatypes of the zone column"
   ]
  },
  {
   "cell_type": "code",
   "execution_count": 630,
   "metadata": {},
   "outputs": [],
   "source": [
    "zones_na = zones_na.fillna(\"unk\") #--replace the NaN values with something that makes sense to your dataset, in this instance it's a string"
   ]
  },
  {
   "cell_type": "code",
   "execution_count": 671,
   "metadata": {},
   "outputs": [],
   "source": [
    "zones_na.head() #--take a look at your dataframe after replacing values"
   ]
  },
  {
   "cell_type": "code",
   "execution_count": 670,
   "metadata": {},
   "outputs": [],
   "source": [
    "#--Load new .csv file, fill NaN values--\n",
    "counts_na = pd.read_csv('data/na_daily_taxi_counts_2018.tsv', sep='\\t')\n",
    "counts_na.head()"
   ]
  },
  {
   "cell_type": "code",
   "execution_count": 667,
   "metadata": {},
   "outputs": [],
   "source": [
    "counts_na.dtypes"
   ]
  },
  {
   "cell_type": "code",
   "execution_count": 668,
   "metadata": {},
   "outputs": [],
   "source": [
    "counts_na.isna().sum()"
   ]
  },
  {
   "cell_type": "code",
   "execution_count": null,
   "metadata": {},
   "outputs": [],
   "source": [
    "counts_na.shape"
   ]
  },
  {
   "cell_type": "code",
   "execution_count": 669,
   "metadata": {},
   "outputs": [],
   "source": [
    "counts_na = counts_na.fillna(0)"
   ]
  },
  {
   "cell_type": "markdown",
   "metadata": {},
   "source": [
    "#### Why might we not want to fill the NaN values with 0's here?"
   ]
  },
  {
   "cell_type": "code",
   "execution_count": 675,
   "metadata": {},
   "outputs": [],
   "source": [
    "counts_na.head()"
   ]
  },
  {
   "cell_type": "markdown",
   "metadata": {},
   "source": [
    "### *Exercise: Replacing"
   ]
  },
  {
   "cell_type": "code",
   "execution_count": null,
   "metadata": {},
   "outputs": [],
   "source": [
    "#--1. Load zones_na. Find how many NaN values are in the dataframe and which column they're in--\n",
    "zones_na = pd.read_csv('data/na_taxi_zones_simple.csv')"
   ]
  },
  {
   "cell_type": "code",
   "execution_count": 613,
   "metadata": {},
   "outputs": [],
   "source": [
    "#--2. Reload trips_na and convert the NaN values to the average value for that column-- \n",
    "trips_na = pd.read_csv('data/na_clean_taxi_sample.tsv', sep='\\t')\n",
    "trips_na.head()"
   ]
  },
  {
   "cell_type": "code",
   "execution_count": 614,
   "metadata": {},
   "outputs": [],
   "source": [
    "trips_na.describe()"
   ]
  },
  {
   "cell_type": "code",
   "execution_count": 603,
   "metadata": {},
   "outputs": [],
   "source": [
    "trips_na.n_trips.fillna((trips_na.n_trips.mean()), inplace=True)"
   ]
  },
  {
   "cell_type": "code",
   "execution_count": 615,
   "metadata": {},
   "outputs": [],
   "source": [
    "trips_na.head()"
   ]
  },
  {
   "cell_type": "code",
   "execution_count": 616,
   "metadata": {},
   "outputs": [],
   "source": [
    "trips_na.describe()"
   ]
  },
  {
   "cell_type": "markdown",
   "metadata": {},
   "source": [
    "## Make New Columns (vector ops)"
   ]
  },
  {
   "cell_type": "code",
   "execution_count": 561,
   "metadata": {},
   "outputs": [],
   "source": [
    "trips.shape"
   ]
  },
  {
   "cell_type": "code",
   "execution_count": 680,
   "metadata": {},
   "outputs": [],
   "source": [
    "#--tip percentage per trip--\n",
    "trips['tip_percent'] = trips['tip_amount']/trips['total_amount']"
   ]
  },
  {
   "cell_type": "code",
   "execution_count": 562,
   "metadata": {},
   "outputs": [],
   "source": [
    "trips.shape"
   ]
  },
  {
   "cell_type": "code",
   "execution_count": 563,
   "metadata": {},
   "outputs": [],
   "source": [
    "# trips.head(10)"
   ]
  },
  {
   "cell_type": "markdown",
   "metadata": {},
   "source": [
    "### *Exercise: Making New Columns with vector operations"
   ]
  },
  {
   "cell_type": "code",
   "execution_count": 693,
   "metadata": {},
   "outputs": [],
   "source": [
    "trips.head()"
   ]
  },
  {
   "cell_type": "code",
   "execution_count": 691,
   "metadata": {},
   "outputs": [],
   "source": [
    "#--1. Create a new column in the trips dataframe called extra_charges \n",
    "# where the column value is the total_amount minus the fare_amount and the tip_amount--\n",
    "# trips['extra_charges'] = trips['total_amount'] - trips['fare_amount'] - trips['tip_amount']\n",
    "# trips.head()"
   ]
  },
  {
   "cell_type": "code",
   "execution_count": 696,
   "metadata": {},
   "outputs": [],
   "source": [
    "#--2. Create a new column in the trips dataframe called extra_charge_perc \n",
    "# where the value is the percent of the extra_charges on the total_amount --\n",
    "trips['extra_charge_perc'] = trips['extra_charges']/trips['total_amount']\n",
    "# trips.head()"
   ]
  },
  {
   "cell_type": "markdown",
   "metadata": {},
   "source": [
    "## Applying Functions to Columns\n",
    "- Applying a function directly to a column\n",
    "    - Example: The tip_percent column we created above looks a bit messy, lets fix it with the round() function \n",
    "- Using .apply()\n",
    "    - Allows you to apply a function along an axis in a dataframe"
   ]
  },
  {
   "cell_type": "code",
   "execution_count": null,
   "metadata": {},
   "outputs": [],
   "source": [
    "trips.head()"
   ]
  },
  {
   "cell_type": "code",
   "execution_count": 697,
   "metadata": {},
   "outputs": [],
   "source": [
    "#-- Rounding values: this will change all of the values in the trips['tip_percent'] column --\n",
    "trips['tip_percent'] = round(trips['tip_percent'], 4) #--change the value from a 4 to a 2 and see what happens--\n",
    "trips['extra_charge_perc'] = round(trips['extra_charge_perc'], 4)\n",
    "trips.head()"
   ]
  },
  {
   "cell_type": "code",
   "execution_count": 239,
   "metadata": {},
   "outputs": [
    {
     "data": {
      "text/plain": [
       "total_amount    312235.2\n",
       "dtype: float64"
      ]
     },
     "execution_count": 239,
     "metadata": {},
     "output_type": "execute_result"
    }
   ],
   "source": [
    "#--Finding the Sum of a Column: Using .apply() to find the sum of all taxi ride totals in this dataset--\n",
    "trips[['total_amount']].apply(np.sum, axis=0)"
   ]
  },
  {
   "cell_type": "markdown",
   "metadata": {},
   "source": [
    "### *Exercise: Applying Functions to Columns"
   ]
  },
  {
   "cell_type": "code",
   "execution_count": 706,
   "metadata": {},
   "outputs": [],
   "source": [
    "#--1. Create a new column in the zones dataframe called zone_lower, where the value is the lower case \n",
    "# version of the zone column. Do the same for the borough column and call it borough_lower --\n",
    "zones['zone_lower'] = zones['zone'].str.lower()\n",
    "zones['borough_lower'] = zones['borough'].str.lower()"
   ]
  },
  {
   "cell_type": "code",
   "execution_count": 833,
   "metadata": {},
   "outputs": [],
   "source": [
    "#--2. Find the average value of tips in the trips dataframe using the .apply() function, then compare with trips.describe()\n",
    "trips[['tip_amount']].apply(np.mean, axis=0)"
   ]
  },
  {
   "cell_type": "code",
   "execution_count": 704,
   "metadata": {},
   "outputs": [],
   "source": [
    "# trips.describe()"
   ]
  },
  {
   "cell_type": "markdown",
   "metadata": {},
   "source": [
    "## Renaming Things\n",
    "- The rename() method can be used to rename any index, column, or row"
   ]
  },
  {
   "cell_type": "code",
   "execution_count": 745,
   "metadata": {},
   "outputs": [
    {
     "data": {
      "text/plain": [
       "Index(['locationid', 'zone', 'borough'], dtype='object')"
      ]
     },
     "execution_count": 745,
     "metadata": {},
     "output_type": "execute_result"
    }
   ],
   "source": [
    "zones = pd.read_csv('data/taxi_zones_simple.csv') \n",
    "zones.columns"
   ]
  },
  {
   "cell_type": "code",
   "execution_count": 746,
   "metadata": {},
   "outputs": [],
   "source": [
    "#--Renaming 1 column at a time--\n",
    "zones.rename(columns={'zone': 'Zone'}, inplace=True)"
   ]
  },
  {
   "cell_type": "code",
   "execution_count": 735,
   "metadata": {},
   "outputs": [],
   "source": [
    "zones.columns"
   ]
  },
  {
   "cell_type": "code",
   "execution_count": 747,
   "metadata": {},
   "outputs": [],
   "source": [
    "#--Renaming multiple columns at a time: 3 different approaches--\n",
    "# zones.rename(columns={'locationid': 'LOCATIONID', 'borough': 'BOROUGH'}, inplace=True) #--Where inplace=True causes the name change to stay with the dataframe zones\n",
    "# zones.rename({'locationid': 'LOCATIONID', 'borough': 'BOROUGH'},  axis='columns')\n",
    "zones.rename({'locationid': 'Locationid','borough': 'Borough'}, inplace=True, axis= 1)"
   ]
  },
  {
   "cell_type": "code",
   "execution_count": 736,
   "metadata": {},
   "outputs": [],
   "source": [
    "zones.columns"
   ]
  },
  {
   "cell_type": "code",
   "execution_count": 737,
   "metadata": {},
   "outputs": [],
   "source": [
    "zones.head()"
   ]
  },
  {
   "cell_type": "code",
   "execution_count": 748,
   "metadata": {},
   "outputs": [
    {
     "data": {
      "text/html": [
       "<div>\n",
       "<style scoped>\n",
       "    .dataframe tbody tr th:only-of-type {\n",
       "        vertical-align: middle;\n",
       "    }\n",
       "\n",
       "    .dataframe tbody tr th {\n",
       "        vertical-align: top;\n",
       "    }\n",
       "\n",
       "    .dataframe thead th {\n",
       "        text-align: right;\n",
       "    }\n",
       "</style>\n",
       "<table border=\"1\" class=\"dataframe\">\n",
       "  <thead>\n",
       "    <tr style=\"text-align: right;\">\n",
       "      <th></th>\n",
       "      <th>LOCATIONID</th>\n",
       "      <th>ZONE</th>\n",
       "      <th>BOROUGH</th>\n",
       "    </tr>\n",
       "  </thead>\n",
       "  <tbody>\n",
       "    <tr>\n",
       "      <td>0</td>\n",
       "      <td>1</td>\n",
       "      <td>Newark Airport</td>\n",
       "      <td>EWR</td>\n",
       "    </tr>\n",
       "    <tr>\n",
       "      <td>1</td>\n",
       "      <td>2</td>\n",
       "      <td>Jamaica Bay</td>\n",
       "      <td>Queens</td>\n",
       "    </tr>\n",
       "    <tr>\n",
       "      <td>2</td>\n",
       "      <td>3</td>\n",
       "      <td>Allerton/Pelham Gardens</td>\n",
       "      <td>Bronx</td>\n",
       "    </tr>\n",
       "    <tr>\n",
       "      <td>3</td>\n",
       "      <td>4</td>\n",
       "      <td>Alphabet City</td>\n",
       "      <td>Manhattan</td>\n",
       "    </tr>\n",
       "    <tr>\n",
       "      <td>4</td>\n",
       "      <td>5</td>\n",
       "      <td>Arden Heights</td>\n",
       "      <td>Staten Island</td>\n",
       "    </tr>\n",
       "  </tbody>\n",
       "</table>\n",
       "</div>"
      ],
      "text/plain": [
       "   LOCATIONID                     ZONE        BOROUGH\n",
       "0           1           Newark Airport            EWR\n",
       "1           2              Jamaica Bay         Queens\n",
       "2           3  Allerton/Pelham Gardens          Bronx\n",
       "3           4            Alphabet City      Manhattan\n",
       "4           5            Arden Heights  Staten Island"
      ]
     },
     "execution_count": 748,
     "metadata": {},
     "output_type": "execute_result"
    }
   ],
   "source": [
    "#--Using rename() to make all columns uppercase--\n",
    "zones = zones.rename(columns=str.upper)\n",
    "zones.head()"
   ]
  },
  {
   "cell_type": "markdown",
   "metadata": {},
   "source": [
    "### *Exercise: Renaming Things"
   ]
  },
  {
   "cell_type": "code",
   "execution_count": 757,
   "metadata": {},
   "outputs": [],
   "source": [
    "#--1. Create a new variable counts_ch_cols. Assign the counts dataframe to it \n",
    "# where the column names are renamed to: Date, N_Trips, Month, Day_Of_Week, and Day. \n",
    "\n",
    "# counts_ch_cols = \n",
    "\n",
    "counts_ch_cols = counts.rename(columns=str.title)"
   ]
  },
  {
   "cell_type": "code",
   "execution_count": 760,
   "metadata": {},
   "outputs": [],
   "source": [
    "#--2. In the dataframe counts_ch_cols, change the column title N_Trips to Number_Trips and Day to Day_Of_Month\n",
    "counts_ch_cols.rename({'N_Trips': 'Number_Trips','Day': 'Day_Of_Month'}, inplace=True, axis= 1)\n",
    "counts_ch_cols"
   ]
  },
  {
   "cell_type": "code",
   "execution_count": null,
   "metadata": {},
   "outputs": [],
   "source": [
    "#--3. Convert the column names in the trips dataframe to all lowercase and assign it to the variable trips_lower--\n",
    "trips_lower = "
   ]
  },
  {
   "cell_type": "markdown",
   "metadata": {},
   "source": [
    "## groupby and unstack\n",
    "- We use the groupby() function to split data into different groups based on some criteria\n",
    "- unstack() is a pandas reshaping function, that pivots a level of the index labels"
   ]
  },
  {
   "cell_type": "code",
   "execution_count": 825,
   "metadata": {},
   "outputs": [],
   "source": [
    "trips.head()"
   ]
  },
  {
   "cell_type": "code",
   "execution_count": 832,
   "metadata": {},
   "outputs": [],
   "source": [
    "#--Using groupby() in pandas to find the total number of passengers in the dataset per pickup ID--\n",
    "pass_byPUID = trips.groupby('PULocationID')['passenger_count'].size() \n",
    "pass_byPUID.to_frame() #--what happens when you comment out this line and run the line below?\n",
    "# pass_byPUID.to_frame().reset_index()"
   ]
  },
  {
   "cell_type": "code",
   "execution_count": 828,
   "metadata": {},
   "outputs": [],
   "source": [
    "avg_trip_dist = trips.groupby(['PULocationID'])['trip_distance'].mean().sort_values(ascending=False) #--Sorted average trip distance from a pickup location\n",
    "avg_trip_dist.to_frame().reset_index() #--reset_index()unstacks the dataframe"
   ]
  },
  {
   "cell_type": "markdown",
   "metadata": {},
   "source": [
    "### *Exercise: groupby and unstack"
   ]
  },
  {
   "cell_type": "code",
   "execution_count": 840,
   "metadata": {},
   "outputs": [],
   "source": [
    "#--1. In the trips dataframe, what's the median total_amount based on payment_type? --\n",
    "trips.groupby('payment_type')['total_amount'].median().to_frame().reset_index()"
   ]
  },
  {
   "cell_type": "code",
   "execution_count": 839,
   "metadata": {},
   "outputs": [],
   "source": [
    "#--2. In the trips dataframe, what's the average tip amount per PULocationID? Put this in descending order. --\n",
    "trips.groupby('PULocationID')['tip_amount'].mean().to_frame().reset_index()"
   ]
  },
  {
   "cell_type": "markdown",
   "metadata": {},
   "source": [
    "## Resample and timedelta\n",
    "- resample() is mainly used for time series data\n",
    "- timedelta represents a duration, the difference between two dates or times.\n",
    "    - all arguments are optional and default to 0\n",
    "    - datetime.timedelta(days=0, seconds=0, microseconds=0, milliseconds=0, minutes=0, hours=0, weeks=0)"
   ]
  },
  {
   "cell_type": "markdown",
   "metadata": {},
   "source": [
    "#### resample()"
   ]
  },
  {
   "cell_type": "code",
   "execution_count": 878,
   "metadata": {},
   "outputs": [],
   "source": [
    "#--timedelta: https://docs.python.org/3/library/datetime.html\n",
    "from datetime import datetime, timedelta"
   ]
  },
  {
   "cell_type": "code",
   "execution_count": 867,
   "metadata": {},
   "outputs": [],
   "source": [
    "hours = pd.read_csv('data/hourly_taxi_counts_2018.tsv', sep='\\t')"
   ]
  },
  {
   "cell_type": "code",
   "execution_count": 856,
   "metadata": {},
   "outputs": [],
   "source": [
    "#--Using datetime when opening the file and saving the dataframe and changing the date column to the index--\n",
    "# parse_dates=[\"date\"] converts 'date' column to datetime format and\n",
    "# index_col='date', makes the 'date' column the index of the dataframe \n",
    "daily = pd.read_csv('data/daily_taxi_counts_2018.tsv', sep='\\t', parse_dates=['date'], index_col='date')"
   ]
  },
  {
   "cell_type": "code",
   "execution_count": 863,
   "metadata": {},
   "outputs": [],
   "source": [
    "#--This code will find the mean number of trips for each month for a duration of 12 months\n",
    "resampled_data_month = daily.n_trips.resample('M').mean() \n",
    "# resampled_data_month"
   ]
  },
  {
   "cell_type": "code",
   "execution_count": 864,
   "metadata": {},
   "outputs": [],
   "source": [
    "#--This code will find the mean number of trips for each week for a duration of 1 year\n",
    "resampled_data_week = daily.n_trips.resample('W').mean() \n",
    "# resampled_data_week.head()"
   ]
  },
  {
   "cell_type": "markdown",
   "metadata": {},
   "source": [
    "#### timedelta()"
   ]
  },
  {
   "cell_type": "code",
   "execution_count": 925,
   "metadata": {},
   "outputs": [
    {
     "name": "stdout",
     "output_type": "stream",
     "text": [
      "initial_date 2020-01-08 09:56:40.532180\n"
     ]
    }
   ],
   "source": [
    "# Using current time \n",
    "ini_time_now = datetime.now() \n",
    "  \n",
    "# printing initial_date \n",
    "print (\"initial_date\", str(ini_time_now))"
   ]
  },
  {
   "cell_type": "code",
   "execution_count": 884,
   "metadata": {},
   "outputs": [
    {
     "name": "stdout",
     "output_type": "stream",
     "text": [
      "future_date_after_2yrs: 2022-01-06 18:56:51.761942\n",
      "future_date_after_2days: 2020-01-09 18:56:51.761942\n"
     ]
    }
   ],
   "source": [
    "# Calculating future dates for two years \n",
    "date_in_two_years = ini_time_now + timedelta(days = 730) \n",
    "date_in_two_days = ini_time_now + timedelta(days = 2) \n",
    "\n",
    "# printing calculated future_dates \n",
    "print('date_in_two_years:', str(date_in_two_years)) \n",
    "print('date_in_two_days:', str(date_in_two_days)) "
   ]
  },
  {
   "cell_type": "markdown",
   "metadata": {},
   "source": [
    "### *Exercise: Resample and timedelta"
   ]
  },
  {
   "cell_type": "code",
   "execution_count": null,
   "metadata": {},
   "outputs": [],
   "source": [
    "#--1. In the daily dataframe, find the mean number of trips for each quarter for the duration of 1 yaer"
   ]
  },
  {
   "cell_type": "code",
   "execution_count": null,
   "metadata": {},
   "outputs": [],
   "source": [
    "#--2. Calculate past dates for 2 years ago and 2 hours ago--\n",
    "\n",
    "date_2yrs_ago = ini_time_now - timedelta(days = 730) \n",
    "  \n",
    "# for two hours \n",
    "date_2hrs_ago = ini_time_now - timedelta(hours = 2) "
   ]
  },
  {
   "cell_type": "markdown",
   "metadata": {},
   "source": [
    "## Other useful functions"
   ]
  },
  {
   "cell_type": "code",
   "execution_count": 545,
   "metadata": {},
   "outputs": [],
   "source": [
    "# .drop_duplicates()"
   ]
  }
 ],
 "metadata": {
  "kernelspec": {
   "display_name": "Python 3",
   "language": "python",
   "name": "python3"
  },
  "language_info": {
   "codemirror_mode": {
    "name": "ipython",
    "version": 3
   },
   "file_extension": ".py",
   "mimetype": "text/x-python",
   "name": "python",
   "nbconvert_exporter": "python",
   "pygments_lexer": "ipython3",
   "version": "3.7.4"
  }
 },
 "nbformat": 4,
 "nbformat_minor": 4
}
